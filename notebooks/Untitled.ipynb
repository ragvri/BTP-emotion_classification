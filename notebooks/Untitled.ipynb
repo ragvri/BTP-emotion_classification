{
 "cells": [
  {
   "cell_type": "code",
   "execution_count": 55,
   "metadata": {},
   "outputs": [],
   "source": [
    "import xml\n",
    "import xml.etree.ElementTree as ET\n",
    "from os import listdir\n",
    "from os.path import isfile, join\n",
    "import os\n",
    "import re"
   ]
  },
  {
   "cell_type": "code",
   "execution_count": 8,
   "metadata": {},
   "outputs": [
    {
     "data": {
      "text/plain": [
       "'/home1/zishan/raghav/notebooks'"
      ]
     },
     "execution_count": 8,
     "metadata": {},
     "output_type": "execute_result"
    }
   ],
   "source": [
    "os.getcwd()"
   ]
  },
  {
   "cell_type": "code",
   "execution_count": 10,
   "metadata": {},
   "outputs": [],
   "source": [
    "mypath='/home1/zishan/raghav/Emotion/Emotion/Emotion_Annotation/'\n",
    "onlyfiles = [f for f in listdir(mypath) if isfile(join(mypath, f))]"
   ]
  },
  {
   "cell_type": "code",
   "execution_count": 11,
   "metadata": {},
   "outputs": [
    {
     "data": {
      "text/plain": [
       "['navbharat_2009_6_25_4700311',\n",
       " 'navbharat_2009_3_6_4231845.xml',\n",
       " 'in-drought-hit-latur-10000-litres-of-water-for-bjp-minister-helipad2.txt.xml',\n",
       " 'blast-at-fruit-market-in-northeastern-nigerias-yola-kills-3216.txt.xml',\n",
       " 'navbharat_2003_9_13_180267',\n",
       " 'iraq-suicide-bomber-kills-at-least-60-at-checkpoint8.txt.xml',\n",
       " 'navbharat_2009_4_1_4342000',\n",
       " 'firozpur-tornado-in-ferozpur-heavy-loss-of-property-175094524.txt.xml',\n",
       " 'navbharat_2003_8_30_57158709final',\n",
       " 'navbharat_2008_12_1_3777505']"
      ]
     },
     "execution_count": 11,
     "metadata": {},
     "output_type": "execute_result"
    }
   ],
   "source": [
    "onlyfiles[:10]"
   ]
  },
  {
   "cell_type": "code",
   "execution_count": 51,
   "metadata": {},
   "outputs": [
    {
     "name": "stdout",
     "output_type": "stream",
     "text": [
      "<?xml version=\"1.0\" encoding=\"UTF-8\"?>\n",
      "<DOCUMENT><P><W> navbharat_2009_6_25_4700311 </W></P><P><W> फिलिपींस </W><W> में </W><W> तूफान </W><W> में </W><W> 8 </W><W> की </W><W> मौत, </W><W> 11 </W><EMOTION1-SENTENCE TYPE=\"SYMPATHY/PENSIVENESS\"><EMOTION1-INTENSITY-SENTENCE TYPE=\"0.8\"><W> लापता </W></EMOTION1-INTENSITY-SENTENCE></EMOTION1-SENTENCE></P><P><W> मनीला।। </W><PLACE-ARG ID=\"1\"><LINK EVENT_ARG=\"0\" ID=\"11\" TYPE_REL=\"EVENT_ARG\"/><W> उत्तरी </W><W> फिलिपींस </W></PLACE-ARG><W> में </W><W> भीषण </W><NATURAL_EVENT ID=\"0\" TYPE=\"STORM\"><W> समुद्री </W><W> तूफान </W></NATURAL_EVENT><W> में </W><W> कम </W><W> से </W><W> कम </W><CASUALTIES-ARG ID=\"2\"><LINK EVENT_ARG=\"0\" ID=\"12\" TYPE_REL=\"EVENT_ARG\"/><W> 8 </W><W> लोगों </W><W> के </W><W> मारे </W><W> जाने </W></CASUALTIES-ARG><W> तथा </W><CASUALTIES-ARG ID=\"3\"><LINK EVENT_ARG=\"0\" ID=\"13\" TYPE_REL=\"EVENT_ARG\"/><W> 11 </W><W> लोगों </W><W> के </W><W> लापता </W></CASUALTIES-ARG><W> होने </W><W> की </W><W> खबर </W><EMOTION1-SENTENCE TYPE=\"SYMPATHY/PENSIVENESS\"><EMOTION1-INTENSITY-SENTENCE TYPE=\"0.8\"><W> है। </W></EMOTION1-INTENSITY-SENTENCE></EMOTION1-SENTENCE><NATURAL_EVENT ID=\"4\" TYPE=\"STORM\"><EVENT-COREF-LINK EVENT_ID=\"0\" ID=\"19\" TYPE_REL=\"EVENT_COREF\"/><W> तूफान </W></NATURAL_EVENT><W> और </W><W> भारी </W><W> बारिश </W><W> के </W><W> कारण </W><PLACE-ARG ID=\"9\"><LINK EVENT_ARG=\"5\" ID=\"16\" TYPE_REL=\"EVENT_ARG\"/><W> देश </W><W> के </W><W> इस </W><W> हिस्से </W></PLACE-ARG><W> में </W><AFTER_EFFECTS-ARG ID=\"6\"><LINK EVENT_ARG=\"4\" ID=\"15\" TYPE_REL=\"EVENT_ARG\"/><NATURAL_EVENT ID=\"5\" TYPE=\"LAND_SLIDE\"><W> भूस्खलन </W></NATURAL_EVENT><W> हुआ </W></AFTER_EFFECTS-ARG><W> और </W><AFTER_EFFECTS-ARG ID=\"7\"><LINK EVENT_ARG=\"4\" ID=\"17\" TYPE_REL=\"EVENT_ARG\"/><W> समुद्र </W><W> में </W><W> कई </W><W> नौकाएं </W><W> पलट </W><EMOTION1-SENTENCE TYPE=\"SADNESS\"><EMOTION1-INTENSITY-SENTENCE TYPE=\"0.6\"><W> गईं। </W></EMOTION1-INTENSITY-SENTENCE></EMOTION1-SENTENCE></AFTER_EFFECTS-ARG><W> 55 </W><W> किलोमीटर </W><W> प्रति </W><W> घंटे </W><W> की </W><W> रफ्तार </W><W> से </W><W> बढ़ </W><W> रहा </W><W> तूफान </W><W> रातभर </W><W> में </W><W> मनीला </W><W> के </W><W> पश्चिम </W><W> में </W><W> साउथ </W><W> चाइना </W><W> सी </W><W> में </W><W> पहुंच </W><W> गया </W><W> और </W><W> अब </W><W> इसके </W><W> इस </W><W> वीकंड </W><W> में </W><W> उत्तर </W><W> पश्चिम </W><W> में </W><W> ताइवान </W><W> स्ट्रेट्स </W><W> की </W><W> ओर </W><W> बढ़ने </W><W> की </W><W> आशंका </W><EMOTION1-SENTENCE TYPE=\"FEAR/ANXIETY\"><EMOTION1-INTENSITY-SENTENCE TYPE=\"0.7\"><W> है। </W></EMOTION1-INTENSITY-SENTENCE></EMOTION1-SENTENCE><W> करीब </W><AFTER_EFFECTS-ARG ID=\"10\"><LINK EVENT_ARG=\"4\" ID=\"18\" TYPE_REL=\"EVENT_ARG\"/><W> दस </W><W> हजार </W><W> लोग </W><W> समुद्र </W><W> में </W><W> मौजूद </W><W> सैंकड़ों </W><W> नौकाओं </W><W> और </W><W> मोटरबोटों </W><W> में </W><W> फंसे </W><W> हुए </W></AFTER_EFFECTS-ARG><EMOTION1-SENTENCE TYPE=\"SYMPATHY/PENSIVENESS\"><EMOTION1-INTENSITY-SENTENCE TYPE=\"0.9\"><EMOTION1-PARAGRAPH TYPE=\"SYMPATHY/PENSIVENESS\"><EMOTION1-INTENSITY-PARAGRAPH TYPE=\"0.8\"><W> हैं। </W></EMOTION1-INTENSITY-PARAGRAPH></EMOTION1-PARAGRAPH></EMOTION1-INTENSITY-SENTENCE></EMOTION1-SENTENCE></P></DOCUMENT>\n"
     ]
    }
   ],
   "source": [
    "# for file in onlyfiles:\n",
    "file = '/home1/zishan/raghav/Emotion/Emotion/Emotion_Annotation/navbharat_2009_6_25_4700311'\n",
    "with open(file,'rb') as f:\n",
    "    text =  str(f.read().decode())\n",
    "    print(text)\n",
    "    root = ET.fromstring(text.encode())\n",
    "#     print(etree.tostring(root))\n",
    "#     print(root[1])"
   ]
  },
  {
   "cell_type": "code",
   "execution_count": 50,
   "metadata": {},
   "outputs": [
    {
     "data": {
      "text/plain": [
       "'DOCUMENT'"
      ]
     },
     "execution_count": 50,
     "metadata": {},
     "output_type": "execute_result"
    }
   ],
   "source": [
    "root.tag\n",
    "# root.attrib"
   ]
  },
  {
   "cell_type": "code",
   "execution_count": 52,
   "metadata": {},
   "outputs": [
    {
     "name": "stdout",
     "output_type": "stream",
     "text": [
      "P {}\n",
      "P {}\n",
      "P {}\n"
     ]
    }
   ],
   "source": [
    "for child in root:\n",
    "    print(child.tag, child.attrib)"
   ]
  },
  {
   "cell_type": "code",
   "execution_count": 64,
   "metadata": {},
   "outputs": [
    {
     "name": "stdout",
     "output_type": "stream",
     "text": [
      "DOCUMENT\n",
      "P\n",
      "W\n",
      "P\n",
      "W\n",
      "W\n",
      "W\n",
      "W\n",
      "W\n",
      "W\n",
      "W\n",
      "W\n",
      "EMOTION1-SENTENCE\n",
      "SYMPATHY/PENSIVENESS\n",
      "EMOTION1-INTENSITY-SENTENCE\n",
      "W\n",
      "P\n",
      "W\n",
      "PLACE-ARG\n",
      "LINK\n",
      "W\n",
      "W\n",
      "W\n",
      "W\n",
      "NATURAL_EVENT\n",
      "W\n",
      "W\n",
      "W\n",
      "W\n",
      "W\n",
      "W\n",
      "CASUALTIES-ARG\n",
      "LINK\n",
      "W\n",
      "W\n",
      "W\n",
      "W\n",
      "W\n",
      "W\n",
      "CASUALTIES-ARG\n",
      "LINK\n",
      "W\n",
      "W\n",
      "W\n",
      "W\n",
      "W\n",
      "W\n",
      "W\n",
      "EMOTION1-SENTENCE\n",
      "SYMPATHY/PENSIVENESS\n",
      "EMOTION1-INTENSITY-SENTENCE\n",
      "W\n",
      "NATURAL_EVENT\n",
      "EVENT-COREF-LINK\n",
      "W\n",
      "W\n",
      "W\n",
      "W\n",
      "W\n",
      "W\n",
      "PLACE-ARG\n",
      "LINK\n",
      "W\n",
      "W\n",
      "W\n",
      "W\n",
      "W\n",
      "AFTER_EFFECTS-ARG\n",
      "LINK\n",
      "NATURAL_EVENT\n",
      "W\n",
      "W\n",
      "W\n",
      "AFTER_EFFECTS-ARG\n",
      "LINK\n",
      "W\n",
      "W\n",
      "W\n",
      "W\n",
      "W\n",
      "EMOTION1-SENTENCE\n",
      "SADNESS\n",
      "EMOTION1-INTENSITY-SENTENCE\n",
      "W\n",
      "W\n",
      "W\n",
      "W\n",
      "W\n",
      "W\n",
      "W\n",
      "W\n",
      "W\n",
      "W\n",
      "W\n",
      "W\n",
      "W\n",
      "W\n",
      "W\n",
      "W\n",
      "W\n",
      "W\n",
      "W\n",
      "W\n",
      "W\n",
      "W\n",
      "W\n",
      "W\n",
      "W\n",
      "W\n",
      "W\n",
      "W\n",
      "W\n",
      "W\n",
      "W\n",
      "W\n",
      "W\n",
      "W\n",
      "W\n",
      "W\n",
      "W\n",
      "W\n",
      "W\n",
      "EMOTION1-SENTENCE\n",
      "FEAR/ANXIETY\n",
      "EMOTION1-INTENSITY-SENTENCE\n",
      "W\n",
      "W\n",
      "AFTER_EFFECTS-ARG\n",
      "LINK\n",
      "W\n",
      "W\n",
      "W\n",
      "W\n",
      "W\n",
      "W\n",
      "W\n",
      "W\n",
      "W\n",
      "W\n",
      "W\n",
      "W\n",
      "W\n",
      "EMOTION1-SENTENCE\n",
      "SYMPATHY/PENSIVENESS\n",
      "EMOTION1-INTENSITY-SENTENCE\n",
      "EMOTION1-PARAGRAPH\n",
      "EMOTION1-INTENSITY-PARAGRAPH\n",
      "W\n"
     ]
    }
   ],
   "source": [
    "sentences=[]\n",
    "emotions=[]\n",
    "temp_sentence = []\n",
    "temp_emotions=[]\n",
    "flag=0\n",
    "for elem in root.iter():\n",
    "    print(elem.tag)\n",
    "    if elem.tag=='W':\n",
    "        temp_sentence.append(elem.text)\n",
    "    elif elem.tag.startswith('/EMOTION'):\n",
    "        print(1)\n",
    "        sentences.append(temp_sentence)\n",
    "        temp_sentence = []\n",
    "        emotions.append(temp_emotions)\n",
    "    elif re.match('EMOTION\\d-SENTENCE', elem.tag):\n",
    "        emotion_label = elem.attrib['TYPE']\n",
    "        print(emotion_label)\n",
    "    elif re.match('EMOTION\\d-INTENSITY-SENTENCE', elem.tag):\n",
    "        emotion_intensity = float(elem.attrib['TYPE'])\n",
    "#     print(elem.text)\n",
    "    "
   ]
  },
  {
   "cell_type": "code",
   "execution_count": 57,
   "metadata": {},
   "outputs": [
    {
     "ename": "IndexError",
     "evalue": "list index out of range",
     "output_type": "error",
     "traceback": [
      "\u001b[0;31m---------------------------------------------------------------------------\u001b[0m",
      "\u001b[0;31mIndexError\u001b[0m                                Traceback (most recent call last)",
      "\u001b[0;32m<ipython-input-57-fc9a021a8072>\u001b[0m in \u001b[0;36m<module>\u001b[0;34m()\u001b[0m\n\u001b[0;32m----> 1\u001b[0;31m \u001b[0msentences\u001b[0m\u001b[0;34m[\u001b[0m\u001b[0;36m0\u001b[0m\u001b[0;34m]\u001b[0m\u001b[0;34m\u001b[0m\u001b[0m\n\u001b[0m",
      "\u001b[0;31mIndexError\u001b[0m: list index out of range"
     ]
    }
   ],
   "source": [
    "sentences[0]"
   ]
  },
  {
   "cell_type": "code",
   "execution_count": null,
   "metadata": {},
   "outputs": [],
   "source": []
  }
 ],
 "metadata": {
  "kernelspec": {
   "display_name": "Python [conda root]",
   "language": "python",
   "name": "conda-root-py"
  },
  "language_info": {
   "codemirror_mode": {
    "name": "ipython",
    "version": 3
   },
   "file_extension": ".py",
   "mimetype": "text/x-python",
   "name": "python",
   "nbconvert_exporter": "python",
   "pygments_lexer": "ipython3",
   "version": "3.6.3"
  }
 },
 "nbformat": 4,
 "nbformat_minor": 2
}
