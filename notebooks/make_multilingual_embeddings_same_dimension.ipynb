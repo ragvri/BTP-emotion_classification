{
 "cells": [
  {
   "cell_type": "code",
   "execution_count": 8,
   "metadata": {},
   "outputs": [],
   "source": [
    "from fasttext import FastVector\n",
    "import fastText\n",
    "import numpy as np"
   ]
  },
  {
   "cell_type": "code",
   "execution_count": 2,
   "metadata": {},
   "outputs": [],
   "source": [
    "ft_en = fastText.load_model('/home1/zishan/raghav/wiki.en.bin')"
   ]
  },
  {
   "cell_type": "code",
   "execution_count": 4,
   "metadata": {},
   "outputs": [],
   "source": [
    "ft_hi = fastText.load_model('/home1/zishan/raghav/wiki.hi.bin')"
   ]
  },
  {
   "cell_type": "code",
   "execution_count": 21,
   "metadata": {},
   "outputs": [],
   "source": [
    "cat = ft_en.get_word_vector('cat')\n",
    "cat_hi = ft_hi.get_word_vector('बिल्ली')\n",
    "dog_hi = ft_hi.get_word_vector('कुत्ता')"
   ]
  },
  {
   "cell_type": "code",
   "execution_count": 22,
   "metadata": {},
   "outputs": [
    {
     "name": "stdout",
     "output_type": "stream",
     "text": [
      "0.011849029\n"
     ]
    }
   ],
   "source": [
    "print(FastVector.cosine_similarity(cat, cat_hi))\n"
   ]
  },
  {
   "cell_type": "code",
   "execution_count": 23,
   "metadata": {},
   "outputs": [
    {
     "name": "stdout",
     "output_type": "stream",
     "text": [
      "0.05348034\n"
     ]
    }
   ],
   "source": [
    "print(FastVector.cosine_similarity(cat, dog_hi))"
   ]
  },
  {
   "cell_type": "code",
   "execution_count": 10,
   "metadata": {},
   "outputs": [],
   "source": [
    "transmat = np.loadtxt('alignment_matrices/en.txt')\n",
    "transmat_hi = np.loadtxt('alignment_matrices/hi.txt')"
   ]
  },
  {
   "cell_type": "code",
   "execution_count": 24,
   "metadata": {},
   "outputs": [],
   "source": [
    "cat = np.matmul(cat, transmat)\n",
    "cat_hi = np.matmul(cat_hi, transmat_hi)\n",
    "dog_hi = np.matmul(dog_hi, transmat_hi)"
   ]
  },
  {
   "cell_type": "code",
   "execution_count": 25,
   "metadata": {},
   "outputs": [
    {
     "name": "stdout",
     "output_type": "stream",
     "text": [
      "0.5617209266436418\n"
     ]
    }
   ],
   "source": [
    "print(FastVector.cosine_similarity(cat, cat_hi))"
   ]
  },
  {
   "cell_type": "code",
   "execution_count": 26,
   "metadata": {},
   "outputs": [
    {
     "name": "stdout",
     "output_type": "stream",
     "text": [
      "0.46749235308864767\n"
     ]
    }
   ],
   "source": [
    "print(FastVector.cosine_similarity(cat, dog_hi))"
   ]
  },
  {
   "cell_type": "code",
   "execution_count": null,
   "metadata": {},
   "outputs": [],
   "source": []
  }
 ],
 "metadata": {
  "kernelspec": {
   "display_name": "Python [conda env:raghav_btp]",
   "language": "python",
   "name": "conda-env-raghav_btp-py"
  },
  "language_info": {
   "codemirror_mode": {
    "name": "ipython",
    "version": 3
   },
   "file_extension": ".py",
   "mimetype": "text/x-python",
   "name": "python",
   "nbconvert_exporter": "python",
   "pygments_lexer": "ipython3",
   "version": "3.6.6"
  }
 },
 "nbformat": 4,
 "nbformat_minor": 2
}
