{
 "cells": [
  {
   "cell_type": "code",
   "execution_count": 45,
   "metadata": {},
   "outputs": [],
   "source": [
    "import xml\n",
    "import xml.etree.ElementTree as ET\n",
    "from os import listdir\n",
    "from os.path import isfile, join\n",
    "import os\n",
    "import re\n",
    "from collections import defaultdict"
   ]
  },
  {
   "cell_type": "code",
   "execution_count": 8,
   "metadata": {},
   "outputs": [
    {
     "data": {
      "text/plain": [
       "'/home1/zishan/raghav/notebooks'"
      ]
     },
     "execution_count": 8,
     "metadata": {},
     "output_type": "execute_result"
    }
   ],
   "source": [
    "os.getcwd()"
   ]
  },
  {
   "cell_type": "code",
   "execution_count": 63,
   "metadata": {},
   "outputs": [],
   "source": [
    "mypath='/home1/zishan/raghav/Data/Corrected/'\n",
    "onlyfiles = [f for f in listdir(mypath) if isfile(join(mypath, f))]"
   ]
  },
  {
   "cell_type": "code",
   "execution_count": 64,
   "metadata": {},
   "outputs": [
    {
     "data": {
      "text/plain": [
       "['navbharat_2009_3_6_4231845.xml',\n",
       " 'in-drought-hit-latur-10000-litres-of-water-for-bjp-minister-helipad2.txt.xml',\n",
       " 'blast-at-fruit-market-in-northeastern-nigerias-yola-kills-3216.txt.xml',\n",
       " 'iraq-suicide-bomber-kills-at-least-60-at-checkpoint8.txt.xml',\n",
       " 'firozpur-tornado-in-ferozpur-heavy-loss-of-property-175094524.txt.xml',\n",
       " 'navbharat_2003_8_30_57158709final',\n",
       " 'navbharat_2009_1_3_3927424.xml',\n",
       " 'navbharat_2004_9_27_865156',\n",
       " 'new-delhi4.txt.xml',\n",
       " 'navbharat_2004_4_20_627443final']"
      ]
     },
     "execution_count": 64,
     "metadata": {},
     "output_type": "execute_result"
    }
   ],
   "source": [
    "onlyfiles[:10]"
   ]
  },
  {
   "cell_type": "code",
   "execution_count": 61,
   "metadata": {},
   "outputs": [
    {
     "name": "stdout",
     "output_type": "stream",
     "text": [
      "[' दक्षिण ', ' अफ्रीका ', ' के ', ' डरबन ', ' शहर ', ' में ', ' गुरुवार ', ' को ', ' कुछ ', ' अज्ञात ', ' हमलावरों ', ' ने ', ' एक ', ' मस्जिद ', ' पर ', ' हमला ', ' कर ', ' मस्जिद ', ' के ', ' इमाम ', ' की ', ' हत्या ', ' कर ', ' दी ', ' और ', ' 2 ', ' अन्य ', ' लोगों ', ' को ', ' चाकू ', ' घोंपकर ', ' घायल ', ' कर ', ' दिया। ', ['SADNESS']]\n"
     ]
    }
   ],
   "source": [
    "import xml.etree.ElementTree as etree\n",
    "\n",
    "tree = etree.parse('/home1/zishan/raghav/Data/Corrected/mosque-attacked-in-south-africa-durban-imam-murdered-2-others-injured2.txt.xml').getroot()\n",
    "\n",
    "results = []\n",
    "\n",
    "w_tags = []\n",
    "for element in tree.findall('P/*'):\n",
    "#     print(element.tag)\n",
    "    if element.tag == 'W':\n",
    "        w_tags.append(element.text)\n",
    "\n",
    "    for search_element in element.findall('W'):\n",
    "        w_tags.append(search_element.text)\n",
    "\n",
    "#     if element.tag == 'EMOTION1-SENTENCE':\n",
    "    if re.match('EMOTION\\d-SENTENCE' ,element.tag):\n",
    "#         id_sentence = element.tag[7]\n",
    "#         print(element.attrib['TYPE'])\n",
    "        dict_to_get_class = defaultdict(list)\n",
    "#         dict_to_get_class[id_sentence].append(element.attrib['TYPE'])\n",
    "        for child in element.iter():\n",
    "#             print(child.tag)\n",
    "            if child.tag=='W':\n",
    "                w_tags.append(child.text)\n",
    "            elif re.match('EMOTION\\d-SENTENCE', child.tag):\n",
    "                id_sentence = child.tag[7]\n",
    "                dict_to_get_class[id_sentence].append(child.attrib['TYPE'])\n",
    "            elif re.match('EMOTION\\d-INTENSITY-SENTENCE', child.tag):\n",
    "                id_sentence = child.tag[7]\n",
    "                dict_to_get_class[id_sentence].append(float(child.attrib['TYPE']))\n",
    "        temp = sorted(dict_to_get_class.items(), key= lambda e: e[1][1], reverse=True)\n",
    "#         print(dict_to_get_class)\n",
    "#         print(temp[0][1][0])\n",
    "        label = temp[0][1][0]\n",
    "        w_tags.append([label])\n",
    "        results.append(w_tags)\n",
    "        w_tags = []\n"
   ]
  },
  {
   "cell_type": "code",
   "execution_count": 62,
   "metadata": {},
   "outputs": [
    {
     "name": "stdout",
     "output_type": "stream",
     "text": [
      "[' यह ', ' हमला ', ' डरबन ', ' के ', ' बाहरी ', ' इलाके ', ' वेरुलम ', ' में ', ' एक ', ' मस्जिद ', ' पर ', ' किया ', ' गया। ', ['DISGUST']]\n"
     ]
    }
   ],
   "source": [
    "\n",
    "print(results[1])"
   ]
  },
  {
   "cell_type": "code",
   "execution_count": null,
   "metadata": {},
   "outputs": [],
   "source": []
  }
 ],
 "metadata": {
  "kernelspec": {
   "display_name": "Python [conda root]",
   "language": "python",
   "name": "conda-root-py"
  },
  "language_info": {
   "codemirror_mode": {
    "name": "ipython",
    "version": 3
   },
   "file_extension": ".py",
   "mimetype": "text/x-python",
   "name": "python",
   "nbconvert_exporter": "python",
   "pygments_lexer": "ipython3",
   "version": "3.6.3"
  }
 },
 "nbformat": 4,
 "nbformat_minor": 2
}
