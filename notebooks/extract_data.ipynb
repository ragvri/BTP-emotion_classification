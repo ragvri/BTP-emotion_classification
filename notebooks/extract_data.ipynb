{
 "cells": [
  {
   "cell_type": "code",
   "execution_count": 1,
   "metadata": {},
   "outputs": [],
   "source": [
    "import xml\n",
    "import xml.etree.ElementTree as ET\n",
    "from os import listdir\n",
    "from os.path import isfile, join\n",
    "import os\n",
    "import re\n",
    "from collections import defaultdict"
   ]
  },
  {
   "cell_type": "code",
   "execution_count": 2,
   "metadata": {},
   "outputs": [
    {
     "data": {
      "text/plain": [
       "'/home1/zishan/raghav/notebooks'"
      ]
     },
     "execution_count": 2,
     "metadata": {},
     "output_type": "execute_result"
    }
   ],
   "source": [
    "os.getcwd()"
   ]
  },
  {
   "cell_type": "code",
   "execution_count": 3,
   "metadata": {},
   "outputs": [],
   "source": [
    "mypath='/home1/zishan/raghav/Data/30_Aug_Emotion/'\n",
    "onlyfiles = [f for f in listdir(mypath) if isfile(join(mypath, f))]"
   ]
  },
  {
   "cell_type": "code",
   "execution_count": 4,
   "metadata": {},
   "outputs": [
    {
     "data": {
      "text/plain": [
       "['navbharat_2009_3_6_4231845.xml',\n",
       " 'in-drought-hit-latur-10000-litres-of-water-for-bjp-minister-helipad2.txt.xml',\n",
       " 'blast-at-fruit-market-in-northeastern-nigerias-yola-kills-3216.txt.xml',\n",
       " 'iraq-suicide-bomber-kills-at-least-60-at-checkpoint8.txt.xml',\n",
       " 'navbharat_2004_8_13_813123.xml',\n",
       " 'navbharat_2007_6_8_2108083.xml',\n",
       " 'firozpur-tornado-in-ferozpur-heavy-loss-of-property-175094524.txt.xml',\n",
       " 'navbharat_2003_8_30_57158709final',\n",
       " 'navbharat_2009_1_3_3927424.xml',\n",
       " 'navbharat_2004_9_27_865156']"
      ]
     },
     "execution_count": 4,
     "metadata": {},
     "output_type": "execute_result"
    }
   ],
   "source": [
    "onlyfiles[:10]"
   ]
  },
  {
   "cell_type": "code",
   "execution_count": 5,
   "metadata": {},
   "outputs": [
    {
     "name": "stdout",
     "output_type": "stream",
     "text": [
      "145\n",
      "145\n"
     ]
    }
   ],
   "source": [
    "print(len(onlyfiles))\n",
    "print(len(set(onlyfiles)))"
   ]
  },
  {
   "cell_type": "code",
   "execution_count": 7,
   "metadata": {},
   "outputs": [
    {
     "name": "stdout",
     "output_type": "stream",
     "text": [
      "exception in file navbharat_2007_6_8_2108083.xml\n",
      " हालांकि  तूफान  ने  अब  ईरान  के  दक्षिण  पूर्वी  किनारे  का  रुख  कर  लिया  है,  जिससे  ओमान  के  लोगों  ने  राहत  की  सांस  ली  है। \n",
      "*****************\n",
      "exception in file navbharat_2004_10_21_894664\n",
      " चक्रवात  के  पूर्व  की  ओर  प्रशांत  महासागर  की  तरफ  बढ़ने  से  पहले  कल  इसने  पूरे  जापान  को  प्रभावित  किया।  किया। \n",
      "*****************\n",
      "exception in file navbharat_2004_9_8_843167\n",
      " भयंकर  तूफान  से  ग्रस्त  कैरीबिआई  द्वीप  ग्रेनेडा  में  रह  रहे  भारतीय  पूरी  तरह  से  सुरक्षित  हैं  और  स्थिति  को  बेहतर  बनाने  का  प्रयास  कर  रहे  हैं। \n",
      "*****************\n",
      "exception in file navbharat_2003_4_15_43486572final\n",
      " बांग्लादेश  की  राजधानी  ढाका  से  मिले  समाचारों  के  अनुसार  राजधानी  और  निचले  इलाकों  में  तेज  आंधी  आने  से  कम  से  कम  दो  बच्चों  सहित  तीन  लोगों  की  मृत्यु  हो  गई  तथा  कई  लोग  घायल  हो  गए। \n",
      "*****************\n",
      "exception in file navbharat_2009_4_17_4413341.xml\n",
      " अभियोजन  पक्ष  ने  इस  मामले  में  गिरफ्तार  एकमात्र  जीवित  आतंकवादी  मोहम्मद  अजमल  आमीर  कसाब  और  2  अन्य  आरोपियों  के  खिलाफ  मामला  अदालत  में  पेश  किया। \n",
      "*****************\n",
      "exception in file navbharat_2005_9_12_1228454final\n",
      " navbharat_2005_9_12_1228454  चीन  में  'खनून'  तूफान  ने  मचाई  तबाही  तबाही \n",
      "*****************\n",
      "exception in file navbharat_2005_9_12_1228454final\n",
      " पेइचिंग  (भाषा)  :  चीन  में  जबर्दस्त  तूफान  'खनून'  की  वजह  से  पूर्वी  चीन  के  चेच्यांग  और  जिंगसू  प्रांतों  में  करीब  10  लाख  लोग  विस्थापित  हुए  हैं  और  सैकड़ों  उड़ानें  रद्द  करनी  पड़ी  हैं।  हैं। \n",
      "*****************\n",
      "exception in file navbharat_2005_9_12_1228454final\n",
      " इसके  अलावा  बंदरगाहों  और  गोदियों  से  करीब  35  हजार  छोटे  जहाजों  और  नौकाओं  को  लोगों  को  हटाने  के  काम  में  लगा  दिया  गया  है।  है। \n",
      "*****************\n",
      "exception in file navbharat_2005_9_12_1228454final\n",
      " झेजियांग  प्रांत  में  कम-से-कम  नौ  लोगों  की  मौत  हो  गई  है,  जबकि  50  लाख  लोग  बुरी  तरह  प्रभावित  हुए  हैं।  हैं। \n",
      "*****************\n",
      "exception in file navbharat_2005_9_12_1228454final\n",
      " प्रांतीय  बाढ़  नियंत्रण  एवं  सूखा  राहत  मुख्यालय  ने  बताया  कि  पूर्वी  चीन  में  आए  इस  तूफान  से  करीब  84.9  करोड़  अमेरिकी  डॉलर  का  नुकसान  हुआ  है।  है। \n",
      "*****************\n",
      "exception in file navbharat_2005_9_12_1228454final\n",
      " सोमवार  सुबह  तक  खनून  ने  चार  शहरों,  329  जिलों  और  357  प्रांतों  को  अपनी  चपेट  में  लिया।  लिया। \n",
      "*****************\n",
      "exception in file navbharat_2005_9_12_1228454final\n",
      " न्यूज  एजेंसी  'शिन्हुआ'  के  मुताबिक  7,468  मकान  इस  में  ध्वस्त  हो  चुके  हैं।  हैं। \n",
      "*****************\n",
      "exception in file navbharat_2010_4_26_5857877final.xml\n",
      " गुवाहाटी।।  गुवाहाटी।। \n",
      "*****************\n",
      "exception in file fullnews_id_2988191_date_3_1_2005.utf8final.xml\n",
      " कानपुर। \n",
      "*****************\n",
      "exception in file navbharat_2010_4_26_5857877final\n",
      " गुवाहाटी।।  गुवाहाटी।। \n",
      "*****************\n",
      "exception in file navbharat_2007_11_26_2570785.xml\n",
      " सो  रहे  लोग  जाग  उठे।  उठे। \n",
      "*****************\n",
      "exception in file navbharat_2005_9_3_1219275final\n",
      " navbharat_2005_9_3_1219275  राहत  के  काम  से  खुश  नहीं  हुए  राष्टपति  बुश  बुश \n",
      "*****************\n",
      "exception in file fullnews_id_4784845.utf8.xml\n",
      " सबसे  अधिक  असर  उत्तरी  फिलीपींस  पर  पड़ा  है।  है। \n",
      "*****************\n",
      "exception in file fullnews_id_2988191_date_3_1_2005corrected.xml\n",
      " कानपुर। \n",
      "*****************\n",
      "exception in file fullnews_id_2988191_date_3_1_2005corrected.xml\n",
      " कई  दिन  पूर्व  तो  दूर  कुछ  घंटे  पहले  भी  भूकंप  के  बारे  में  नहीं  बताया  जा  सकता। \n",
      "*****************\n",
      "exception in file fullnews_id_4392574_date_7_9_2006.utf8.xml\n",
      " लापता  लोगों  की  तलाश  जारी  है  परंतु  खराब  मौसम  की  वजह  से  बचाव  अभियान  में  दिक्कतें  आ  रही  हैं। \n",
      "*****************\n",
      "exception in file uttarakhand-forest-fires-mi-17-choppers-to-spray-water-over-burning-forests3.txt.xml.000\n",
      " हर  तरफ  से  उठते  काले  धुएं  के  गुबार  से  आसमान  भी  धुंधला  नजर  आ  रहा  है। \n",
      "*****************\n",
      "exception in file navbharat_2004_5_22_691460final\n",
      " पूर्णिया  प्रमंडल  के  जन  प्रतिनिधियों  के  अनुसार  तूफान  से  कम  से  कम  25  लोगों  की  मौत  हुई  है  और  चार  सौ  से  अधिक  मकानों  को  क्षति  पहुंची  है। \n",
      "*****************\n",
      "exception in file navbharat_2004_9_6_840639.xml\n",
      " कल  आए  तूफान  से  लगभग  एक  लाख  नागरिक  अपने  अपने  घरों  को  छोड़कर  सरकारी  शरणगाहों  में  चले  गए  है।  है। \n",
      "*****************\n",
      "exception in file fullnews_id_2988191_date_3_1_2005.utf8final\n",
      " fullnews_id_2988191_date_3_1_2005.utf8  भूकंप  की  भविष्यवाणी  संभव  नहीं \n",
      "*****************\n",
      "exception in file fullnews_id_2988191_date_3_1_2005.utf8final\n",
      " कानपुर। \n",
      "*****************\n",
      "exception in file navbharat_2005_9_19_1236034 full done\n",
      " कोलकाता  (वार्ता)  (वार्ता) \n",
      "*****************\n"
     ]
    }
   ],
   "source": [
    "import xml.etree.ElementTree as etree\n",
    "\n",
    "for filename in onlyfiles:\n",
    "    tree = etree.parse('/home1/zishan/raghav/Data/30_Aug_Emotion/'+str(filename)).getroot()\n",
    "\n",
    "    results = []\n",
    "\n",
    "    w_tags = []\n",
    "    for element in tree.findall('P/*'):\n",
    "        if element.tag == 'W':\n",
    "            w_tags.append(element.text)\n",
    "\n",
    "        for search_element in element.findall('W'):\n",
    "            w_tags.append(search_element.text)\n",
    "\n",
    "        if re.match('EMOTION\\d-SENTENCE' ,element.tag):\n",
    "            dict_to_get_class = defaultdict(list)\n",
    "            for child in element.iter():\n",
    "                if child.tag=='W':\n",
    "                    w_tags.append(child.text)\n",
    "                elif re.match('EMOTION\\d-SENTENCE', child.tag):\n",
    "                    id_sentence = child.tag[7]\n",
    "                    dict_to_get_class[id_sentence].append(child.attrib['TYPE'])\n",
    "                elif re.match('EMOTION\\d-INTENSITY-SENTENCE', child.tag):\n",
    "                    id_sentence = child.tag[7]\n",
    "                    dict_to_get_class[id_sentence].append(float(child.attrib['TYPE']))\n",
    "            try:\n",
    "                temp = sorted(dict_to_get_class.items(), key= lambda e: e[1][1], reverse=True)\n",
    "                label = temp[0][1][0]\n",
    "                w_tags.append([label])\n",
    "                results.append(w_tags)\n",
    "                w_tags = []\n",
    "            except Exception as e:\n",
    "                print('exception in file %s' %(str(filename)))\n",
    "                print(''.join(w_tags))\n",
    "                print('*****************')\n",
    "                w_tags = []\n",
    "\n",
    "\n",
    "    for sentence in results:\n",
    "        label = sentence[-1]\n",
    "        words = sentence[:-1]\n",
    "        words = [word.strip(' ') for word in words]\n",
    "        with open('/home1/zishan/raghav/Data/data_final.txt','a+') as f:\n",
    "            string = ' '.join(words) + '\\t' + label[0]+'\\n'\n",
    "#             print(string)\n",
    "            f.write(string.encode().decode())\n",
    "\n",
    "\n",
    " "
   ]
  },
  {
   "cell_type": "code",
   "execution_count": null,
   "metadata": {},
   "outputs": [],
   "source": []
  }
 ],
 "metadata": {
  "kernelspec": {
   "display_name": "Python [conda root]",
   "language": "python",
   "name": "conda-root-py"
  },
  "language_info": {
   "codemirror_mode": {
    "name": "ipython",
    "version": 3
   },
   "file_extension": ".py",
   "mimetype": "text/x-python",
   "name": "python",
   "nbconvert_exporter": "python",
   "pygments_lexer": "ipython3",
   "version": "3.6.3"
  }
 },
 "nbformat": 4,
 "nbformat_minor": 2
}
