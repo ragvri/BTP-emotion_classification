{
 "cells": [
  {
   "cell_type": "code",
   "execution_count": 19,
   "metadata": {},
   "outputs": [],
   "source": [
    "import xml\n",
    "import xml.etree.ElementTree as ET\n",
    "from os import listdir\n",
    "from os.path import isfile, join\n",
    "import os\n",
    "import re\n",
    "from collections import defaultdict"
   ]
  },
  {
   "cell_type": "code",
   "execution_count": 20,
   "metadata": {},
   "outputs": [
    {
     "data": {
      "text/plain": [
       "'/home1/zishan/raghav/notebooks'"
      ]
     },
     "execution_count": 20,
     "metadata": {},
     "output_type": "execute_result"
    }
   ],
   "source": [
    "os.getcwd()"
   ]
  },
  {
   "cell_type": "code",
   "execution_count": 21,
   "metadata": {},
   "outputs": [],
   "source": [
    "mypath='/home1/zishan/raghav/Data/31_Aug_Emotion/'\n",
    "onlyfiles = [f for f in listdir(mypath) if isfile(join(mypath, f))]"
   ]
  },
  {
   "cell_type": "code",
   "execution_count": 22,
   "metadata": {},
   "outputs": [
    {
     "name": "stdout",
     "output_type": "stream",
     "text": [
      "124\n"
     ]
    }
   ],
   "source": [
    "print(len(onlyfiles))"
   ]
  },
  {
   "cell_type": "code",
   "execution_count": 23,
   "metadata": {},
   "outputs": [
    {
     "data": {
      "text/plain": [
       "['navbharat_2009_3_6_4231845.xml',\n",
       " 'in-drought-hit-latur-10000-litres-of-water-for-bjp-minister-helipad2.txt.xml',\n",
       " 'blast-at-fruit-market-in-northeastern-nigerias-yola-kills-3216.txt.xml',\n",
       " 'iraq-suicide-bomber-kills-at-least-60-at-checkpoint8.txt.xml',\n",
       " 'navbharat_2004_8_13_813123.xml',\n",
       " 'navbharat_2007_6_8_2108083.xml',\n",
       " 'firozpur-tornado-in-ferozpur-heavy-loss-of-property-175094524.txt.xml',\n",
       " 'navbharat_2003_8_30_57158709final',\n",
       " 'navbharat_2009_1_3_3927424.xml',\n",
       " 'navbharat_2004_9_27_865156']"
      ]
     },
     "execution_count": 23,
     "metadata": {},
     "output_type": "execute_result"
    }
   ],
   "source": [
    "onlyfiles[:10]"
   ]
  },
  {
   "cell_type": "code",
   "execution_count": 24,
   "metadata": {},
   "outputs": [
    {
     "name": "stdout",
     "output_type": "stream",
     "text": [
      "124\n",
      "124\n"
     ]
    }
   ],
   "source": [
    "print(len(onlyfiles))\n",
    "print(len(set(onlyfiles)))"
   ]
  },
  {
   "cell_type": "code",
   "execution_count": 25,
   "metadata": {},
   "outputs": [],
   "source": [
    "import xml.etree.ElementTree as etree\n",
    "\n",
    "for filename in onlyfiles:\n",
    "    tree = etree.parse('/home1/zishan/raghav/Data/31_Aug_Emotion/'+str(filename)).getroot()\n",
    "\n",
    "    results = []\n",
    "\n",
    "    w_tags = []\n",
    "    for element in tree.findall('P/*'):\n",
    "        if element.tag == 'W':\n",
    "            w_tags.append(element.text)\n",
    "\n",
    "        for search_element in element.findall('W'):\n",
    "            w_tags.append(search_element.text)\n",
    "\n",
    "        if re.match('EMOTION\\d-SENTENCE' ,element.tag):\n",
    "            dict_to_get_class = defaultdict(list)\n",
    "            for child in element.iter():\n",
    "                if child.tag=='W':\n",
    "                    w_tags.append(child.text)\n",
    "                elif re.match('EMOTION\\d-SENTENCE', child.tag):\n",
    "                    id_sentence = child.tag[7]\n",
    "                    dict_to_get_class[id_sentence].append(child.attrib['TYPE'])\n",
    "                elif re.match('EMOTION\\d-INTENSITY-SENTENCE', child.tag):\n",
    "                    id_sentence = child.tag[7]\n",
    "                    dict_to_get_class[id_sentence].append(float(child.attrib['TYPE']))\n",
    "            try:\n",
    "                temp = sorted(dict_to_get_class.items(), key= lambda e: e[1][1], reverse=True)\n",
    "#                 print(temp)\n",
    "                label = temp[0][1][0]\n",
    "#                 print(label)\n",
    "                intensity = temp[0][1][1]\n",
    "#                 print(intensity)\n",
    "                w_tags.append([label, intensity])\n",
    "                results.append(w_tags)\n",
    "                w_tags = []\n",
    "            except Exception as e:\n",
    "                print('exception in file %s' %(str(filename)))\n",
    "                print(''.join(w_tags))\n",
    "                print('*****************')\n",
    "                w_tags = []\n",
    "    \n",
    "\n",
    "    for sentence in results:\n",
    "        label = sentence[-1]\n",
    "        words = sentence[:-1]\n",
    "        words = [word.strip(' ') for word in words]\n",
    "        with open('/home1/zishan/raghav/Data/data_with_intensity.txt','a+') as f:\n",
    "            string = ' '.join(words) + '\\t' + label[0]+ '\\t'+ str(label[1])+'\\n'\n",
    "#             print(string)\n",
    "            f.write(string.encode().decode())\n",
    "\n",
    "\n",
    " "
   ]
  },
  {
   "cell_type": "code",
   "execution_count": 11,
   "metadata": {},
   "outputs": [
    {
     "name": "stdout",
     "output_type": "stream",
     "text": [
      "[' navbharat_2008_5_11_3028752 ', ' तूफान ', ' में ', ' उड़ी ', ' कार, ', ' छत ', ' पर ', ' जा ', ' गिरी ', ['FEAR/ANXIETY', 0.8]]\n"
     ]
    }
   ],
   "source": [
    "print(results[0])"
   ]
  },
  {
   "cell_type": "code",
   "execution_count": null,
   "metadata": {},
   "outputs": [],
   "source": []
  }
 ],
 "metadata": {
  "kernelspec": {
   "display_name": "Python [conda root]",
   "language": "python",
   "name": "conda-root-py"
  },
  "language_info": {
   "codemirror_mode": {
    "name": "ipython",
    "version": 3
   },
   "file_extension": ".py",
   "mimetype": "text/x-python",
   "name": "python",
   "nbconvert_exporter": "python",
   "pygments_lexer": "ipython3",
   "version": "3.6.3"
  }
 },
 "nbformat": 4,
 "nbformat_minor": 2
}
