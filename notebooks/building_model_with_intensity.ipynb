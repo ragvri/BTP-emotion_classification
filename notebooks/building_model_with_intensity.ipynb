{
 "cells": [
  {
   "cell_type": "code",
   "execution_count": 117,
   "metadata": {},
   "outputs": [],
   "source": [
    "import fastText\n",
    "import math\n",
    "import numpy as np \n",
    "from numpy import random\n",
    "from random import sample\n",
    "from keras.models import Sequential, Model\n",
    "from keras.callbacks import ModelCheckpoint\n",
    "from keras.layers import *\n",
    "from keras import *\n",
    "from keras.utils import to_categorical\n",
    "from keras.preprocessing.sequence import pad_sequences\n",
    "from keras.initializers import RandomUniform\n",
    "import re\n",
    "from sklearn.metrics import f1_score, recall_score, precision_score, accuracy_score, mean_squared_error"
   ]
  },
  {
   "cell_type": "code",
   "execution_count": 2,
   "metadata": {},
   "outputs": [],
   "source": [
    "from keras.backend.tensorflow_backend import set_session\n",
    "import tensorflow as tf\n",
    "config = tf.ConfigProto()\n",
    "config.gpu_options.allow_growth = True\n",
    "config.log_device_placement = True\n",
    "set_session(tf.Session(config=config))"
   ]
  },
  {
   "cell_type": "code",
   "execution_count": 3,
   "metadata": {},
   "outputs": [],
   "source": [
    "ft = fastText.load_model(\"/home1/zishan/raghav/wiki.hi.bin\")\n",
    "\n",
    "nb_embedding_dims = ft.get_dimension()\n",
    "nb_sequence_length = 75"
   ]
  },
  {
   "cell_type": "code",
   "execution_count": 4,
   "metadata": {},
   "outputs": [],
   "source": [
    "def twitter_tokenizer(textline):\n",
    "    textLine = re.sub(r'http\\S+', 'URL', textline)\n",
    "    textline = re.sub('@[\\w_]+', 'USER_MENTION', textline)\n",
    "    textline = re.sub('\\|LBR\\|', '', textline)\n",
    "    textline = re.sub('\\.\\.\\.+', '...', textline)\n",
    "    textline = re.sub('!!+', '!!', textline)\n",
    "    textline = re.sub('\\?\\?+', '??', textline)\n",
    "    words = re.compile('[\\U00010000-\\U0010ffff]|[\\w-]+|[^ \\w\\U00010000-\\U0010ffff]+', re.UNICODE).findall(textline.strip())\n",
    "    words = [w.strip() for w in words if w.strip() != '']\n",
    "    return(words)"
   ]
  },
  {
   "cell_type": "code",
   "execution_count": 5,
   "metadata": {},
   "outputs": [],
   "source": [
    "word_vectors_ft = {}\n",
    "def process_features(textline, nb_sequence_length, nb_embedding_dims, tokenize=True):\n",
    "    if not tokenize:\n",
    "        words = textline.split()\n",
    "    else:\n",
    "        words = twitter_tokenizer(textline)\n",
    "    features_ft = np.zeros((nb_sequence_length, nb_embedding_dims))\n",
    "    features_idx = np.zeros(nb_sequence_length)\n",
    "    max_words = min(len(words), nb_sequence_length)\n",
    "    idx = nb_sequence_length - len(words[:max_words])\n",
    "    for w in words[:max_words]:\n",
    "        if w in word_vectors_ft:\n",
    "            wv = word_vectors_ft[w]\n",
    "        else:\n",
    "            wv = ft.get_word_vector(w.lower())\n",
    "            word_vectors_ft[w] = wv\n",
    "        features_ft[idx] = wv\n",
    "        \n",
    "        idx = idx + 1\n",
    "    return features_ft"
   ]
  },
  {
   "cell_type": "code",
   "execution_count": 7,
   "metadata": {},
   "outputs": [],
   "source": [
    "def sequential_generator(filename, \n",
    "                         batch_size, \n",
    "                         labels2Idx:'dict to make output labels',\n",
    "                         check:'to check if all lines in file are of same length.To check enter the len of line after splitting it by tabs' = None,\n",
    "                         tokenize:'specify if using twitter tokenzor to preprocess lines'=False, \n",
    "                        ):    \n",
    "    \n",
    "    f = open(filename)\n",
    "    n_labels = len(labels2Idx)\n",
    "    while True:\n",
    "        batch_features_ft = np.zeros((batch_size, nb_sequence_length, nb_embedding_dims))\n",
    "        batch_labels = np.zeros((batch_size, len(labels2Idx)))\n",
    "        batch_intensity = np.zeros((batch_size, 1))\n",
    "        for i in range(batch_size):\n",
    "            line = f.readline()\n",
    "            if (\"\" == line):\n",
    "                f.seek(0)\n",
    "                line = f.readline()\n",
    "            data = line.strip().split('\\t')\n",
    "            if check:\n",
    "                if len(data)!=check:\n",
    "                    i-=1\n",
    "                    continue\n",
    "            batch_features_ft[i] = process_features(data[0], nb_sequence_length, nb_embedding_dims, tokenize= tokenize)\n",
    "            batch_labels[i] = to_categorical(labels2Idx[data[1]], n_labels)\n",
    "            batch_intensity[i] = float(data[2])\n",
    "        yield ([batch_features_ft], [batch_labels, batch_intensity])"
   ]
  },
  {
   "cell_type": "code",
   "execution_count": null,
   "metadata": {},
   "outputs": [],
   "source": [
    "train_file = '/home1/zishan/raghav/Data/train_with_intensity.txt'\n",
    "weights_file ='/home1/zishan/raghav/weights/bilstm_3cnn_with_intensity.h5'\n",
    "log_file = '/home1/zishan/raghav/logs/bilstm_3cnn_with_intensity.txt'\n",
    "batch_size = 16\n",
    "check_for_generator = 2\n",
    "labels2Idx = labels2Idx\n",
    "tokenize = True\n",
    "samples_per_epoch = len(train_sentences)\n",
    "steps_per_epoch = math.ceil(samples_per_epoch / batch_size)\n",
    "for i in sequential_generator(filename = train_file, batch_size = batch_size, check = check_for_generator, \n",
    "                                             labels2Idx= labels2Idx, tokenize= tokenize):\n",
    "    x = 1"
   ]
  },
  {
   "cell_type": "code",
   "execution_count": 36,
   "metadata": {},
   "outputs": [],
   "source": [
    "def train_dev_sentences(filetrain, filedev, check:'to check if lines of file are all same lenght after separating by tab'):\n",
    "    labels2Idx = {}\n",
    "    train_lines = [line.strip().split(\"\\t\") for line in open(filetrain) if len(line.split('\\t'))==check]\n",
    "    dev_lines = [line.strip().split(\"\\t\") for line in open(filedev) if len(line.strip().split('\\t'))==check]\n",
    "    for dataset in [train_lines, dev_lines]:\n",
    "        for line in dataset:\n",
    "            label = line[1]\n",
    "            if label not in labels2Idx.keys():\n",
    "                labels2Idx[label]= len(labels2Idx)\n",
    "    train_sentences =[]\n",
    "    train_labels = []\n",
    "    dev_sentences = []\n",
    "    dev_labels = []\n",
    "    try:\n",
    "        for line_no, x in enumerate(train_lines):\n",
    "#             print(x, line_no)\n",
    "            train_sentences.append(x[0])\n",
    "            train_labels.append([labels2Idx[x[1]], float(x[2])])\n",
    "    except Exception as e:\n",
    "        print(x, line_no, end='\\n\\n')\n",
    "#         continue\n",
    "    try:\n",
    "        for line_no, x in enumerate(dev_lines):\n",
    "            dev_sentences.append(x[0])\n",
    "            dev_labels.append([labels2Idx[x[1]], float(x[2])])\n",
    "    except Exception as e:\n",
    "        print(x, line_no)\n",
    "    return (train_sentences, train_labels, dev_sentences, dev_labels, labels2Idx)"
   ]
  },
  {
   "cell_type": "code",
   "execution_count": 37,
   "metadata": {},
   "outputs": [],
   "source": [
    "train_file = '/home1/zishan/raghav/Data/train_with_intensity.txt'\n",
    "dev_file = '/home1/zishan/raghav/Data/dev_with_intensity.txt'\n",
    "train_sentences, train_labels, dev_sentences, dev_labels, labels2Idx = train_dev_sentences(train_file, dev_file, 3)"
   ]
  },
  {
   "cell_type": "code",
   "execution_count": 38,
   "metadata": {},
   "outputs": [
    {
     "name": "stdout",
     "output_type": "stream",
     "text": [
      "111978\n"
     ]
    }
   ],
   "source": [
    "n_words = 0\n",
    "for sentence in train_sentences:\n",
    "    n_words+=len(sentence)\n",
    "print(n_words)"
   ]
  },
  {
   "cell_type": "code",
   "execution_count": 39,
   "metadata": {},
   "outputs": [
    {
     "name": "stdout",
     "output_type": "stream",
     "text": [
      "Counter({0: 389, 2: 191, 4: 146, 5: 146, 1: 119, 3: 85, 6: 61, 7: 47, 8: 19})\n",
      "{'SADNESS': 0, 'FEAR/ANXIETY': 1, 'SYMPATHY/PENSIVENESS': 2, 'JOY': 3, 'OPTIMISM': 4, 'NO-EMOTION': 5, 'DISGUST': 6, 'ANGER': 7, 'SURPRISE': 8}\n"
     ]
    }
   ],
   "source": [
    "from collections import Counter\n",
    "print(Counter([x[0] for x in train_labels]))\n",
    "print(labels2Idx)"
   ]
  },
  {
   "cell_type": "code",
   "execution_count": 41,
   "metadata": {
    "scrolled": true
   },
   "outputs": [
    {
     "name": "stdout",
     "output_type": "stream",
     "text": [
      "['आतंंकवादियों ने सुबह करीब सवा छह बजे पीछे से 3-1 गोरखा राइफल्स के शिविर को निशाना बनाते हुए अंधाधुंध गोलीबारी की जिसमें एक आम नागरिक की मौत हो गई जबकि एक जवान घायल हो गया।', 'दक्षिण अफ्रीका के डरबन शहर में गुरुवार को कुछ अज्ञात हमलावरों ने एक मस्जिद पर हमला कर मस्जिद के इमाम की हत्या कर दी और 2 अन्य लोगों को चाकू घोंपकर घायल कर दिया।']\n",
      "[[0, 0.4], [0, 0.3], [1, 0.4], [2, 0.6], [0, 0.8], [3, 0.3], [0, 1.0], [4, 0.3], [4, 0.5], [1, 0.4]]\n",
      "{'SADNESS': 0, 'FEAR/ANXIETY': 1, 'SYMPATHY/PENSIVENESS': 2, 'JOY': 3, 'OPTIMISM': 4, 'NO-EMOTION': 5, 'DISGUST': 6, 'ANGER': 7, 'SURPRISE': 8}\n",
      "1203\n"
     ]
    }
   ],
   "source": [
    "print(train_sentences[:2])\n",
    "print(train_labels[:10])\n",
    "print(labels2Idx)\n",
    "print(len(train_labels))"
   ]
  },
  {
   "cell_type": "code",
   "execution_count": 42,
   "metadata": {},
   "outputs": [],
   "source": [
    "n_labels = len(labels2Idx)"
   ]
  },
  {
   "cell_type": "code",
   "execution_count": 91,
   "metadata": {},
   "outputs": [],
   "source": [
    "def compile_model_bilstm_cnn(no_labels:'total labels for classification'):\n",
    "    model_input_embedding = Input(shape = (nb_sequence_length, nb_embedding_dims))\n",
    "    lstm_block = Bidirectional(LSTM(100, dropout = 0.5, return_sequences=True))(model_input_embedding)\n",
    "    lstm_block = LeakyReLU()(lstm_block)\n",
    "\n",
    "    filter_sizes = (3, 4, 5)\n",
    "    conv_blocks = []\n",
    "    for sz in filter_sizes:\n",
    "        conv = Conv1D(\n",
    "            filters = 200,\n",
    "            kernel_size = sz,\n",
    "            padding = 'valid',\n",
    "            strides = 1\n",
    "        )(lstm_block)\n",
    "        conv = LeakyReLU()(conv)\n",
    "        conv = GlobalMaxPooling1D()(conv)\n",
    "        conv = Dropout(0.5)(conv)\n",
    "        conv_blocks.append(conv)\n",
    "    model_concatenated = concatenate([conv_blocks[0], conv_blocks[1], conv_blocks[2]])\n",
    "    model_concatenated = Dense(100)(model_concatenated)\n",
    "    model_concatenated = LeakyReLU()(model_concatenated)\n",
    "    model_output_classification = Dense(no_labels, activation = \"softmax\", name='for_classification')(model_concatenated)\n",
    "    model_output_intensity = Dense(1, activation = \"sigmoid\", name='for_intensity')(model_concatenated)\n",
    "    new_model = Model(model_input_embedding, [model_output_classification, model_output_intensity])\n",
    "    new_model.compile(loss=['categorical_crossentropy', 'mse'], optimizer='nadam', metrics = ['accuracy'])\n",
    "    new_model.summary()\n",
    "    return new_model"
   ]
  },
  {
   "cell_type": "code",
   "execution_count": 118,
   "metadata": {
    "scrolled": true
   },
   "outputs": [
    {
     "name": "stdout",
     "output_type": "stream",
     "text": [
      "__________________________________________________________________________________________________\n",
      "Layer (type)                    Output Shape         Param #     Connected to                     \n",
      "==================================================================================================\n",
      "input_4 (InputLayer)            (None, 75, 300)      0                                            \n",
      "__________________________________________________________________________________________________\n",
      "bidirectional_4 (Bidirectional) (None, 75, 200)      320800      input_4[0][0]                    \n",
      "__________________________________________________________________________________________________\n",
      "leaky_re_lu_16 (LeakyReLU)      (None, 75, 200)      0           bidirectional_4[0][0]            \n",
      "__________________________________________________________________________________________________\n",
      "conv1d_10 (Conv1D)              (None, 73, 200)      120200      leaky_re_lu_16[0][0]             \n",
      "__________________________________________________________________________________________________\n",
      "conv1d_11 (Conv1D)              (None, 72, 200)      160200      leaky_re_lu_16[0][0]             \n",
      "__________________________________________________________________________________________________\n",
      "conv1d_12 (Conv1D)              (None, 71, 200)      200200      leaky_re_lu_16[0][0]             \n",
      "__________________________________________________________________________________________________\n",
      "leaky_re_lu_17 (LeakyReLU)      (None, 73, 200)      0           conv1d_10[0][0]                  \n",
      "__________________________________________________________________________________________________\n",
      "leaky_re_lu_18 (LeakyReLU)      (None, 72, 200)      0           conv1d_11[0][0]                  \n",
      "__________________________________________________________________________________________________\n",
      "leaky_re_lu_19 (LeakyReLU)      (None, 71, 200)      0           conv1d_12[0][0]                  \n",
      "__________________________________________________________________________________________________\n",
      "global_max_pooling1d_10 (Global (None, 200)          0           leaky_re_lu_17[0][0]             \n",
      "__________________________________________________________________________________________________\n",
      "global_max_pooling1d_11 (Global (None, 200)          0           leaky_re_lu_18[0][0]             \n",
      "__________________________________________________________________________________________________\n",
      "global_max_pooling1d_12 (Global (None, 200)          0           leaky_re_lu_19[0][0]             \n",
      "__________________________________________________________________________________________________\n",
      "dropout_10 (Dropout)            (None, 200)          0           global_max_pooling1d_10[0][0]    \n",
      "__________________________________________________________________________________________________\n",
      "dropout_11 (Dropout)            (None, 200)          0           global_max_pooling1d_11[0][0]    \n",
      "__________________________________________________________________________________________________\n",
      "dropout_12 (Dropout)            (None, 200)          0           global_max_pooling1d_12[0][0]    \n",
      "__________________________________________________________________________________________________\n",
      "concatenate_4 (Concatenate)     (None, 600)          0           dropout_10[0][0]                 \n",
      "                                                                 dropout_11[0][0]                 \n",
      "                                                                 dropout_12[0][0]                 \n",
      "__________________________________________________________________________________________________\n",
      "dense_8 (Dense)                 (None, 100)          60100       concatenate_4[0][0]              \n",
      "__________________________________________________________________________________________________\n",
      "leaky_re_lu_20 (LeakyReLU)      (None, 100)          0           dense_8[0][0]                    \n",
      "__________________________________________________________________________________________________\n",
      "for_classification (Dense)      (None, 9)            909         leaky_re_lu_20[0][0]             \n",
      "__________________________________________________________________________________________________\n",
      "for_intensity (Dense)           (None, 1)            101         leaky_re_lu_20[0][0]             \n",
      "==================================================================================================\n",
      "Total params: 862,510\n",
      "Trainable params: 862,510\n",
      "Non-trainable params: 0\n",
      "__________________________________________________________________________________________________\n"
     ]
    }
   ],
   "source": [
    "model = compile_model_bilstm_cnn(no_labels = n_labels)"
   ]
  },
  {
   "cell_type": "code",
   "execution_count": 89,
   "metadata": {},
   "outputs": [],
   "source": [
    "train_file = '/home1/zishan/raghav/Data/train_with_intensity.txt'\n",
    "weights_file ='/home1/zishan/raghav/weights/bilstm_3cnn_with_intensity.h5'\n",
    "log_file = '/home1/zishan/raghav/logs/bilstm_3cnn_with_intensity.txt'\n",
    "batch_size = 16\n",
    "check_for_generator = 2\n",
    "labels2Idx = labels2Idx\n",
    "tokenize = True\n",
    "samples_per_epoch = len(train_sentences)\n",
    "steps_per_epoch = math.ceil(samples_per_epoch / batch_size)"
   ]
  },
  {
   "cell_type": "code",
   "execution_count": 119,
   "metadata": {},
   "outputs": [],
   "source": [
    "generator = sequential_generator(filename=train_file, batch_size=len(train_sentences), labels2Idx=labels2Idx)\n"
   ]
  },
  {
   "cell_type": "code",
   "execution_count": 120,
   "metadata": {},
   "outputs": [],
   "source": [
    "x,y = generator.__next__()"
   ]
  },
  {
   "cell_type": "code",
   "execution_count": 121,
   "metadata": {},
   "outputs": [
    {
     "name": "stdout",
     "output_type": "stream",
     "text": [
      "(1203, 75, 300)\n",
      "(1203, 9)\n",
      "(1203, 1)\n"
     ]
    }
   ],
   "source": [
    "print(x[0].shape)\n",
    "print(y[0].shape)\n",
    "print(y[1].shape)"
   ]
  },
  {
   "cell_type": "code",
   "execution_count": 122,
   "metadata": {},
   "outputs": [
    {
     "name": "stdout",
     "output_type": "stream",
     "text": [
      "Epoch 1/1\n",
      "1203/1203 [==============================] - 16s 13ms/step - loss: 1.9597 - for_classification_loss: 1.8896 - for_intensity_loss: 0.0700 - for_classification_acc: 0.3242 - for_intensity_acc: 0.0865\n"
     ]
    },
    {
     "name": "stderr",
     "output_type": "stream",
     "text": [
      "/home1/zishan/anaconda3/envs/raghav_btp/lib/python3.6/site-packages/sklearn/metrics/classification.py:1135: UndefinedMetricWarning: F-score is ill-defined and being set to 0.0 in labels with no predicted samples.\n",
      "  'precision', 'predicted', average, warn_for)\n"
     ]
    },
    {
     "name": "stdout",
     "output_type": "stream",
     "text": [
      "0.060589643546476474 0.0653578128398265\n",
      "Epoch 1/1\n",
      "1203/1203 [==============================] - 12s 10ms/step - loss: 1.7877 - for_classification_loss: 1.7234 - for_intensity_loss: 0.0642 - for_classification_acc: 0.3965 - for_intensity_acc: 0.1097\n",
      "0.05625174046226679 0.06641256494982978\n",
      "Epoch 1/1\n",
      "1203/1203 [==============================] - 12s 10ms/step - loss: 1.6843 - for_classification_loss: 1.6223 - for_intensity_loss: 0.0620 - for_classification_acc: 0.3940 - for_intensity_acc: 0.1180\n",
      "0.09970531969006416 0.06881109819545463\n",
      "Epoch 1/1\n",
      "1203/1203 [==============================] - 12s 10ms/step - loss: 1.6113 - for_classification_loss: 1.5504 - for_intensity_loss: 0.0609 - for_classification_acc: 0.4198 - for_intensity_acc: 0.1214\n",
      "0.05592386474562209 0.0666635274380257\n",
      "Epoch 1/1\n",
      "1203/1203 [==============================] - 12s 10ms/step - loss: 1.5137 - for_classification_loss: 1.4553 - for_intensity_loss: 0.0583 - for_classification_acc: 0.4688 - for_intensity_acc: 0.1272\n",
      "0.06835560229759656 0.06497579809471458\n",
      "Epoch 1/1\n",
      "1203/1203 [==============================] - 11s 9ms/step - loss: 1.4351 - for_classification_loss: 1.3801 - for_intensity_loss: 0.0550 - for_classification_acc: 0.5037 - for_intensity_acc: 0.1222\n",
      "0.09256083664331087 0.06681981868569992\n",
      "Epoch 1/1\n",
      "1203/1203 [==============================] - 11s 9ms/step - loss: 1.3615 - for_classification_loss: 1.3096 - for_intensity_loss: 0.0519 - for_classification_acc: 0.4988 - for_intensity_acc: 0.1355\n",
      "0.08110734948694438 0.06912779466221285\n",
      "Epoch 1/1\n",
      "1203/1203 [==============================] - 11s 9ms/step - loss: 1.3113 - for_classification_loss: 1.2604 - for_intensity_loss: 0.0509 - for_classification_acc: 0.5378 - for_intensity_acc: 0.1405\n",
      "0.05808825398900911 0.06529839664750962\n",
      "Epoch 1/1\n",
      "1203/1203 [==============================] - 11s 9ms/step - loss: 1.2401 - for_classification_loss: 1.1897 - for_intensity_loss: 0.0504 - for_classification_acc: 0.5594 - for_intensity_acc: 0.1380\n",
      "0.07245487122607387 0.07335756737585597\n",
      "Epoch 1/1\n",
      "1203/1203 [==============================] - 11s 9ms/step - loss: 1.1578 - for_classification_loss: 1.1106 - for_intensity_loss: 0.0472 - for_classification_acc: 0.5927 - for_intensity_acc: 0.1413\n",
      "0.030086890252083703 0.08663957462915113\n",
      "Epoch 1/1\n",
      "1203/1203 [==============================] - 12s 10ms/step - loss: 1.0779 - for_classification_loss: 1.0322 - for_intensity_loss: 0.0457 - for_classification_acc: 0.6176 - for_intensity_acc: 0.1405\n",
      "0.057918433204258504 0.07542659473417979\n",
      "Epoch 1/1\n",
      "1203/1203 [==============================] - 12s 10ms/step - loss: 0.9420 - for_classification_loss: 0.8970 - for_intensity_loss: 0.0450 - for_classification_acc: 0.6675 - for_intensity_acc: 0.1413\n",
      "0.06750812227121819 0.07356575917905601\n",
      "Epoch 1/1\n",
      "1203/1203 [==============================] - 11s 10ms/step - loss: 0.8871 - for_classification_loss: 0.8450 - for_intensity_loss: 0.0420 - for_classification_acc: 0.6949 - for_intensity_acc: 0.1463\n",
      "0.07943184803421703 0.06577886412002525\n",
      "Epoch 1/1\n",
      "1203/1203 [==============================] - 12s 10ms/step - loss: 0.8436 - for_classification_loss: 0.8006 - for_intensity_loss: 0.0430 - for_classification_acc: 0.7091 - for_intensity_acc: 0.1471\n",
      "0.07328949514965842 0.08352169114723296\n",
      "Epoch 1/1\n",
      "1203/1203 [==============================] - 12s 10ms/step - loss: 0.7266 - for_classification_loss: 0.6847 - for_intensity_loss: 0.0419 - for_classification_acc: 0.7490 - for_intensity_acc: 0.1480\n",
      "0.06526083532680564 0.07650209149076219\n",
      "Epoch 1/1\n",
      "1203/1203 [==============================] - 12s 10ms/step - loss: 0.6587 - for_classification_loss: 0.6203 - for_intensity_loss: 0.0385 - for_classification_acc: 0.7797 - for_intensity_acc: 0.1455\n",
      "0.0376932842188508 0.07076809564957733\n",
      "Epoch 1/1\n",
      "1203/1203 [==============================] - 10s 8ms/step - loss: 0.6120 - for_classification_loss: 0.5725 - for_intensity_loss: 0.0394 - for_classification_acc: 0.7922 - for_intensity_acc: 0.1513\n",
      "0.06179335777036927 0.08725797672032815\n",
      "Epoch 1/1\n",
      "1203/1203 [==============================] - 9s 8ms/step - loss: 0.4964 - for_classification_loss: 0.4589 - for_intensity_loss: 0.0375 - for_classification_acc: 0.8329 - for_intensity_acc: 0.1488\n",
      "0.05576938377690258 0.0696471589325687\n",
      "Epoch 1/1\n",
      "1203/1203 [==============================] - 10s 8ms/step - loss: 0.4656 - for_classification_loss: 0.4302 - for_intensity_loss: 0.0354 - for_classification_acc: 0.8587 - for_intensity_acc: 0.1496\n",
      "0.07334959909541897 0.0746225699370265\n",
      "Epoch 1/1\n",
      "1203/1203 [==============================] - 10s 8ms/step - loss: 0.4085 - for_classification_loss: 0.3755 - for_intensity_loss: 0.0330 - for_classification_acc: 0.8587 - for_intensity_acc: 0.1554\n",
      "0.09126254593734268 0.08982960330727544\n"
     ]
    }
   ],
   "source": [
    "for i in range(20):\n",
    "    model.fit(x, y, epochs=1)\n",
    "    \n",
    "    testset_features = np.zeros((len(dev_sentences), nb_sequence_length, nb_embedding_dims))\n",
    "    for i in range(len(dev_sentences)):\n",
    "        testset_features[i] = process_features(dev_sentences[i], nb_sequence_length, nb_embedding_dims)\n",
    "    results = model.predict(testset_features)\n",
    "    class_pred = results[0].argmax(axis=1)\n",
    "    intensity_pred = results[1]\n",
    "    true_classes= [label[0] for label in dev_labels]\n",
    "    true_intensity = [label[1] for label in dev_labels]\n",
    "    mse = mean_squared_error(true_intensity, intensity_pred)\n",
    "    f1 = f1_score(true_classes, class_pred, average='macro')\n",
    "    print(f1, mse)\n",
    "    "
   ]
  },
  {
   "cell_type": "code",
   "execution_count": null,
   "metadata": {
    "scrolled": true
   },
   "outputs": [],
   "source": [
    "max_f1 = 0\n",
    "for epoch in range(200):\n",
    "    print(\"Epoch {}\".format(epoch))\n",
    "    model.fit_generator(sequential_generator(filename = train_file, batch_size = batch_size, check = check_for_generator, \n",
    "                                             labels2Idx= labels2Idx,tokenize= tokenize),\n",
    "                        steps_per_epoch= steps_per_epoch, epochs=1,)\n",
    "\n",
    "    testset_features = np.zeros((len(dev_sentences), nb_sequence_length, nb_embedding_dims))\n",
    "    for i in range(len(dev_sentences)):\n",
    "        testset_features[i] = process_features(dev_sentences[i], nb_sequence_length, nb_embedding_dims)\n",
    "    results = model.predict(testset_features)\n",
    "\n",
    "\n",
    "    predLabels = results.argmax(axis=-1)\n",
    "    devLabels = dev_labels\n",
    "    f1 = f1_score(devLabels, predLabels, average='macro') # offensive is the major class. So other is minor\n",
    "    r = recall_score(devLabels, predLabels, average='macro')\n",
    "    p = precision_score(devLabels, predLabels, average='macro')\n",
    "    a = accuracy_score(devLabels, predLabels)\n",
    "    \n",
    "    if f1> max_f1:\n",
    "        model.save_weights(weights_file)\n",
    "        with open(log_file,'a+') as f:\n",
    "            text = str(epoch)+', a: '+str(a) +', f1:' +str(f1) +'\\n'\n",
    "            f.write(text)\n",
    "        max_f1 = f1\n",
    "\n",
    "    print(a,f1)"
   ]
  },
  {
   "cell_type": "markdown",
   "metadata": {
    "collapsed": true
   },
   "source": [
    "# transfer learning"
   ]
  },
  {
   "cell_type": "code",
   "execution_count": null,
   "metadata": {},
   "outputs": [],
   "source": [
    "def test_model_tl_unfreezing(generator, \n",
    "               train_sentences, \n",
    "               devLabels, \n",
    "               number_of_tests,\n",
    "               number_of_epochs,\n",
    "               filename_to_log, \n",
    "               labels2Idx,\n",
    "               filename_to_save_weigths,\n",
    "               batch_size, \n",
    "               unfreezing_strategy: 'list containing a tuple of indices to unfreeze at each step',\n",
    "               train_file:'filepath for traininig',\n",
    "               f1_measure:'binary/macro etc', \n",
    "               pos_label:'only if binary f1',\n",
    "               load_model_weights=False,\n",
    "               model_weights_file:'give filepath as str'=None, \n",
    "               tokenize=True,\n",
    "               nb_sequence_length = nb_sequence_length,\n",
    "               nb_embedding_dims= nb_embedding_dims, \n",
    "               check_for_generator=None):\n",
    "    \n",
    "    f = open(filename_to_log, 'w', encoding='utf-8')\n",
    "    f.close()\n",
    "   \n",
    "    total_f1=0\n",
    "    total_prec=0\n",
    "    total_acc=0\n",
    "    total_recall=0\n",
    "    \n",
    "    for test_number in range(number_of_tests):\n",
    "        print(\"Test %d/%d\" %(test_number+1, number_of_tests))\n",
    "        model = compile_model_bilstm_cnn(4)\n",
    "\n",
    "        # transfer learning\n",
    "        if load_model_weights and model_weights_file:\n",
    "                model.load_weights(model_weights_file)\n",
    "                print(\"removing top layer\")\n",
    "                model.layers.pop()\n",
    "                output = Dense(len(labels2Idx), activation = 'softmax')(model.layers[-1].output)\n",
    "                final_model = Model(inputs=model.input, outputs=[output])\n",
    "\n",
    "        samples_per_epoch = len(train_sentences)\n",
    "        epochs = number_of_epochs\n",
    "        batch_size = batch_size\n",
    "        steps_per_epoch = math.ceil(samples_per_epoch / batch_size)\n",
    "\n",
    "        max_f1=0\n",
    "        max_p=0\n",
    "        max_r=0\n",
    "        max_a=0\n",
    "        \n",
    "        # load pretrained weights\n",
    "        # model.compile\n",
    "        # save tmp weights\n",
    "        # iterate over layers\n",
    "        #    load tmp weights\n",
    "        #    iterate over epochs\n",
    "        #        unfreeze top frozen layer\n",
    "        #        save best model as tmp weights\n",
    "        \n",
    "        \n",
    "        final_model.save(filename_to_save_weigths)\n",
    "        \n",
    "        # layers_to_unfreeze = [18, 16, 3, 1]\n",
    "        \n",
    "        for ulayer in unfreezing_strategy:\n",
    "            print(\"unfreezing \" + final_model.layers[ulayer[0]].name)\n",
    "            print(\"---------------------------------------\")\n",
    "            final_model.load_weights(filename_to_save_weigths)            \n",
    "            for i, layer in enumerate(final_model.layers):\n",
    "                \n",
    "                # TF strategy: gradual unfreezing\n",
    "                #if i >= ulayer:\n",
    "                #    layer.trainable = True\n",
    "                #else:\n",
    "                #    layer.trainable = False\n",
    "                # \n",
    "                ## TF strategy: single\n",
    "                \n",
    "                if i >= ulayer[1] and i <= ulayer[0]:\n",
    "                    layer.trainable = True\n",
    "                else:\n",
    "                    layer.trainable = False\n",
    "                    \n",
    "                print(str(i) + ' ' + layer.name + ' ' + str(layer.trainable))\n",
    "            final_model.compile(loss='categorical_crossentropy', optimizer='nadam', metrics=['accuracy'])\n",
    "        \n",
    "            for epoch in range(epochs):\n",
    "                print(\"Epoch: %d/%d\" %(epoch+1, epochs))\n",
    "                final_model.fit_generator(\n",
    "                    generator(filename = train_file, batch_size = batch_size, check = check_for_generator, \n",
    "                              labels2Idx= labels2Idx,tokenize= tokenize), \n",
    "                    steps_per_epoch= steps_per_epoch, epochs=1\n",
    "                )\n",
    "\n",
    "                testset_features = np.zeros((len(dev_sentences), nb_sequence_length, nb_embedding_dims))\n",
    "                for i in range(len(dev_sentences)):\n",
    "                    testset_features[i] = process_features(dev_sentences[i], nb_sequence_length, nb_embedding_dims)\n",
    "                results = final_model.predict(testset_features)\n",
    "\n",
    "                predLabels = results.argmax(axis=-1)\n",
    "                devLabels = devLabels\n",
    "                f1 = f1_score(devLabels, predLabels, average=f1_measure, pos_label=pos_label) # offensive is the major class. So other is minor\n",
    "                r = recall_score(devLabels, predLabels, average=f1_measure, pos_label=pos_label)\n",
    "                p = precision_score(devLabels, predLabels, average=f1_measure, pos_label=pos_label)\n",
    "                a = accuracy_score(devLabels, predLabels)\n",
    "                if max_f1 < f1:\n",
    "                    print(\"model saved. F1 is %f\" %(f1))\n",
    "                    final_model.save(filename_to_save_weigths)\n",
    "                    max_f1 = f1\n",
    "                    max_p = p\n",
    "                    max_r = r\n",
    "                    max_a = a\n",
    "                text = \"prec: \"+ str(p)+\" rec: \"+str(r) +\" f1: \"+str(f1) +\" acc: \"+str(a)+\" \\n\"\n",
    "                print(\"Test-Data: Prec: %.3f, Rec: %.3f, F1: %.3f, Acc: %.3f\" % (p, r, f1, a))\n",
    "        to_write= \"prec: \"+ str(max_p)+\" rec: \"+str(max_r) +\" f1: \"+str(max_f1) +\" acc: \"+str(max_a)+\" \\n\"\n",
    "        print(to_write)\n",
    "        with open(filename_to_log,'a') as f:\n",
    "            f.write(to_write)\n",
    "        total_f1+=max_f1\n",
    "        total_prec+=max_p\n",
    "        total_acc+=max_a\n",
    "        total_recall+=max_r    \n",
    "        print(\"*****************************************************************************\")\n",
    "    final_text = \"avg_prec: \" +str(total_prec/number_of_tests)+\" total_rec: \"+str(total_recall/number_of_tests) +\" total_f1: \"+str(total_f1/number_of_tests) +\" total_acc: \"+str(total_acc/number_of_tests)+\" \\n\"\n",
    "    print(final_text)\n",
    "    with open(filename_to_log,'a') as f:\n",
    "        f.write(final_text)"
   ]
  },
  {
   "cell_type": "code",
   "execution_count": null,
   "metadata": {},
   "outputs": [],
   "source": [
    "# list of tuples. Every tuple contains range of layers which need to be unfrozen. Rest all are frozen\n",
    "single_unfreeze_bottom_up = [(18, 18), (17, 16), (15, 3), (2, 1), (18,1)] \n",
    "single_unfreeze_top_down = [(18, 18),   (2, 1),(15, 3), (17, 16), (18,1)]\n",
    "all_unfreeze = [(18,1)]\n",
    "gradual_unfreezing = [(18,18), (18,16), (18,3), (18,1)]\n",
    "\n",
    "strings =['suf_bu', 'suf_td','all_unfreeze','gradual_unfreeze']\n",
    "# strings=['gradual_unfreeze']\n",
    "unfreeze_strategy = [single_unfreeze_bottom_up, single_unfreeze_top_down, all_unfreeze, gradual_unfreezing]\n",
    "# unfreeze_strategy = [gradual_unfreezing]"
   ]
  },
  {
   "cell_type": "code",
   "execution_count": null,
   "metadata": {
    "scrolled": true
   },
   "outputs": [],
   "source": [
    "for i in range(len(strings)):\n",
    "    string = strings[i]\n",
    "    print(\"approach: %s\" %(string))\n",
    "    \n",
    "    generator = sequential_generator\n",
    "    train_sentences = train_sentences\n",
    "    devLabels = dev_labels\n",
    "    number_of_tests = 1\n",
    "    number_of_epochs = 200\n",
    "    labels2Id = labels2Idx\n",
    "    log_file = '/home1/zishan/raghav/logs/tl_bilstm_3cnn_dropout=0.8_' +string+'.txt' \n",
    "    print(\"log file: %s\" %(log_file))\n",
    "    weights_file='/home1/zishan/raghav/weights/tl_bilstm_3cnn_dropout=0.8_'+string+'.h5'\n",
    "    print(\"save weights file: %s\" %(weights_file))\n",
    "    batch_size=16\n",
    "    train_file='/home1/zishan/raghav/Data/train_31_aug.txt'\n",
    "    f1_measure='macro'\n",
    "    pos_label=1\n",
    "    strategy = unfreeze_strategy[i]\n",
    "    print(strategy)\n",
    "    load_model_weights=True\n",
    "    load_weights_file = '/home1/zishan/raghav/weights/pretrain_bilstm_3cnn_dropout=0.5.h5'\n",
    "    nb_sequence_length = nb_sequence_length\n",
    "    nb_embedding_dims= nb_embedding_dims\n",
    "    check_for_generator=2\n",
    "    \n",
    "    test_model_tl_unfreezing(generator=generator, \n",
    "           train_sentences=train_sentences, \n",
    "           devLabels=devLabels, \n",
    "           number_of_tests= number_of_tests,\n",
    "           number_of_epochs=number_of_epochs, \n",
    "           filename_to_log=log_file, \n",
    "           labels2Idx = labels2Id,\n",
    "           filename_to_save_weigths=weights_file,\n",
    "           batch_size=batch_size,\n",
    "           unfreezing_strategy = strategy,       \n",
    "           train_file=train_file, \n",
    "           f1_measure=f1_measure, \n",
    "           pos_label=pos_label, \n",
    "           load_model_weights=True,\n",
    "           model_weights_file = load_weights_file, \n",
    "           nb_sequence_length=nb_sequence_length, \n",
    "           nb_embedding_dims=nb_embedding_dims, \n",
    "           check_for_generator= check_for_generator)"
   ]
  },
  {
   "cell_type": "code",
   "execution_count": null,
   "metadata": {
    "scrolled": true
   },
   "outputs": [],
   "source": [
    "model = compile_model_bilstm_cnn(4)"
   ]
  },
  {
   "cell_type": "code",
   "execution_count": null,
   "metadata": {
    "scrolled": true
   },
   "outputs": [],
   "source": [
    "model.load_weights('/home1/zishan/raghav/weights/pretrain_bilstm_3cnn_dropout=0.8.h5')"
   ]
  },
  {
   "cell_type": "code",
   "execution_count": null,
   "metadata": {},
   "outputs": [],
   "source": [
    "model.layers.pop()"
   ]
  },
  {
   "cell_type": "code",
   "execution_count": null,
   "metadata": {},
   "outputs": [],
   "source": [
    "output = Dense(n_labels, activation='softmax')(model.layers[-1].output)"
   ]
  },
  {
   "cell_type": "code",
   "execution_count": null,
   "metadata": {},
   "outputs": [],
   "source": [
    "final_model = Model(inputs=model.input, outputs=[output])"
   ]
  },
  {
   "cell_type": "code",
   "execution_count": null,
   "metadata": {},
   "outputs": [],
   "source": [
    "final_model.compile(loss='categorical_crossentropy', optimizer='nadam', metrics=['accuracy'])"
   ]
  },
  {
   "cell_type": "code",
   "execution_count": null,
   "metadata": {},
   "outputs": [],
   "source": [
    "train_file = '/home1/zishan/raghav/Data/train_31_aug.txt'\n",
    "weights_file ='/home1/zishan/raghav/weights/tl_bilstm_3cnn_dropout=0.8.h5'\n",
    "log_file = '/home1/zishan/raghav/logs/tl_bilstm_3cnn_dropout=0.8.txt'\n",
    "batch_size = 16\n",
    "check_for_generator = 2\n",
    "labels2Idx = labels2Idx\n",
    "tokenize = True\n",
    "samples_per_epoch = len(train_sentences)\n",
    "steps_per_epoch = math.ceil(samples_per_epoch / batch_size)"
   ]
  },
  {
   "cell_type": "code",
   "execution_count": null,
   "metadata": {
    "scrolled": true
   },
   "outputs": [],
   "source": [
    "max_f1 = 0\n",
    "for epoch in range(200):\n",
    "    print(\"Epoch {}\".format(epoch))\n",
    "    final_model.fit_generator(sequential_generator(filename = train_file, batch_size = batch_size, check = check_for_generator, \n",
    "                                             labels2Idx= labels2Idx,tokenize= tokenize),\n",
    "                        steps_per_epoch= steps_per_epoch, epochs=1,)\n",
    "\n",
    "    testset_features = np.zeros((len(dev_sentences), nb_sequence_length, nb_embedding_dims))\n",
    "    for i in range(len(dev_sentences)):\n",
    "        testset_features[i] = process_features(dev_sentences[i], nb_sequence_length, nb_embedding_dims)\n",
    "    results = final_model.predict(testset_features)\n",
    "\n",
    "\n",
    "    #             idx2Label = {0 : \"OTHER\", 1 : \"OFFENSIVE\"}\n",
    "    predLabels = results.argmax(axis=-1)\n",
    "    devLabels = dev_labels\n",
    "    f1 = f1_score(devLabels, predLabels, average='macro') # offensive is the major class. So other is minor\n",
    "    r = recall_score(devLabels, predLabels, average='macro')\n",
    "    p = precision_score(devLabels, predLabels, average='macro')\n",
    "    a = accuracy_score(devLabels, predLabels)\n",
    "    \n",
    "    if f1> max_f1:\n",
    "        final_model.save_weights(weights_file)\n",
    "        with open(log_file,'a+') as f:\n",
    "            text = str(epoch)+', a: '+str(a) +', f1:' +str(f1) +'\\n'\n",
    "            f.write(text)\n",
    "        max_f1 = f1\n",
    "\n",
    "    print(a,f1)"
   ]
  },
  {
   "cell_type": "code",
   "execution_count": null,
   "metadata": {
    "scrolled": true
   },
   "outputs": [],
   "source": [
    "model = compile_model_bilstm_3cnn(n_labels)\n",
    "model.load_weights('/home1/zishan/raghav/weights/tl_bilstm_3cnn_dropout=0.8_suf_bu.h5')"
   ]
  },
  {
   "cell_type": "code",
   "execution_count": null,
   "metadata": {},
   "outputs": [],
   "source": [
    "testset_features = np.zeros((len(dev_sentences), nb_sequence_length, nb_embedding_dims))\n",
    "for i in range(len(dev_sentences)):\n",
    "    testset_features[i] = process_features(dev_sentences[i], nb_sequence_length, nb_embedding_dims)\n",
    "results = final_model.predict(testset_features)\n",
    "\n",
    "\n",
    "#             idx2Label = {0 : \"OTHER\", 1 : \"OFFENSIVE\"}\n",
    "predLabels = results.argmax(axis=-1)\n",
    "devLabels = dev_labels\n",
    "f1 = f1_score(devLabels, predLabels, average='micro') # offensive is the major class. So other is minor\n",
    "#     r = recall_score(devLabels, predLabels, average='macro')\n",
    "#     p = precision_score(devLabels, predLabels, average='macro')\n",
    "a = accuracy_score(devLabels, predLabels)\n",
    "print(f1)"
   ]
  },
  {
   "cell_type": "code",
   "execution_count": null,
   "metadata": {},
   "outputs": [],
   "source": []
  }
 ],
 "metadata": {
  "kernelspec": {
   "display_name": "Python [conda env:raghav_btp]",
   "language": "python",
   "name": "conda-env-raghav_btp-py"
  },
  "language_info": {
   "codemirror_mode": {
    "name": "ipython",
    "version": 3
   },
   "file_extension": ".py",
   "mimetype": "text/x-python",
   "name": "python",
   "nbconvert_exporter": "python",
   "pygments_lexer": "ipython3",
   "version": "3.6.6"
  }
 },
 "nbformat": 4,
 "nbformat_minor": 2
}
