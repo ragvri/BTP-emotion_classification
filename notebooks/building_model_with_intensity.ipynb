{
 "cells": [
  {
   "cell_type": "code",
   "execution_count": 1,
   "metadata": {},
   "outputs": [
    {
     "name": "stderr",
     "output_type": "stream",
     "text": [
      "Using TensorFlow backend.\n",
      "/home1/zishan/anaconda3/envs/raghav_btp/lib/python3.6/importlib/_bootstrap.py:219: RuntimeWarning: numpy.dtype size changed, may indicate binary incompatibility. Expected 96, got 88\n",
      "  return f(*args, **kwds)\n"
     ]
    }
   ],
   "source": [
    "import fastText, keras\n",
    "import math\n",
    "import numpy as np \n",
    "from numpy import random\n",
    "from random import sample\n",
    "from keras.models import Sequential, Model\n",
    "from keras.callbacks import ModelCheckpoint\n",
    "from keras.layers import *\n",
    "from keras import *\n",
    "from keras.utils import to_categorical\n",
    "from keras.preprocessing.sequence import pad_sequences\n",
    "from keras.initializers import RandomUniform\n",
    "import re\n",
    "from sklearn.metrics import f1_score, recall_score, precision_score, accuracy_score, mean_squared_error"
   ]
  },
  {
   "cell_type": "code",
   "execution_count": 2,
   "metadata": {},
   "outputs": [],
   "source": [
    "from keras.backend.tensorflow_backend import set_session\n",
    "import tensorflow as tf\n",
    "config = tf.ConfigProto()\n",
    "config.gpu_options.allow_growth = True\n",
    "config.log_device_placement = True\n",
    "set_session(tf.Session(config=config))"
   ]
  },
  {
   "cell_type": "code",
   "execution_count": 3,
   "metadata": {},
   "outputs": [],
   "source": [
    "ft = fastText.load_model(\"/home1/zishan/raghav/wiki.hi.bin\")\n",
    "\n",
    "nb_embedding_dims = ft.get_dimension()\n",
    "nb_sequence_length = 75"
   ]
  },
  {
   "cell_type": "code",
   "execution_count": 4,
   "metadata": {},
   "outputs": [],
   "source": [
    "def twitter_tokenizer(textline):\n",
    "    textLine = re.sub(r'http\\S+', 'URL', textline)\n",
    "    textline = re.sub('@[\\w_]+', 'USER_MENTION', textline)\n",
    "    textline = re.sub('\\|LBR\\|', '', textline)\n",
    "    textline = re.sub('\\.\\.\\.+', '...', textline)\n",
    "    textline = re.sub('!!+', '!!', textline)\n",
    "    textline = re.sub('\\?\\?+', '??', textline)\n",
    "    words = re.compile('[\\U00010000-\\U0010ffff]|[\\w-]+|[^ \\w\\U00010000-\\U0010ffff]+', re.UNICODE).findall(textline.strip())\n",
    "    words = [w.strip() for w in words if w.strip() != '']\n",
    "    return(words)"
   ]
  },
  {
   "cell_type": "code",
   "execution_count": 5,
   "metadata": {},
   "outputs": [],
   "source": [
    "word_vectors_ft = {}\n",
    "def process_features_crosslingual(textline, nb_sequence_length, nb_embedding_dims, tokenize=True, transmat = None):\n",
    "    if not tokenize:\n",
    "        words = textline.split()\n",
    "    else:\n",
    "        words = twitter_tokenizer(textline)\n",
    "    features_ft = np.zeros((nb_sequence_length, nb_embedding_dims))\n",
    "    features_idx = np.zeros(nb_sequence_length)\n",
    "    max_words = min(len(words), nb_sequence_length)\n",
    "    idx = nb_sequence_length - len(words[:max_words])\n",
    "    for w in words[:max_words]:\n",
    "        if w in word_vectors_ft:\n",
    "            wv = word_vectors_ft[w]\n",
    "        else:\n",
    "            wv = ft.get_word_vector(w.lower())\n",
    "            wv = np.matmul(wv, transmat) # applying transformation on the word vector to make the vector in same space\n",
    "            word_vectors_ft[w] = wv\n",
    "        features_ft[idx] = wv\n",
    "        \n",
    "        idx = idx + 1\n",
    "    return features_ft"
   ]
  },
  {
   "cell_type": "code",
   "execution_count": 6,
   "metadata": {},
   "outputs": [],
   "source": [
    "word_vectors_ft = {}\n",
    "def process_features(textline, nb_sequence_length, nb_embedding_dims, tokenize=True):\n",
    "    if not tokenize:\n",
    "        words = textline.split()\n",
    "    else:\n",
    "        words = twitter_tokenizer(textline)\n",
    "    features_ft = np.zeros((nb_sequence_length, nb_embedding_dims))\n",
    "    features_idx = np.zeros(nb_sequence_length)\n",
    "    max_words = min(len(words), nb_sequence_length)\n",
    "    idx = nb_sequence_length - len(words[:max_words])\n",
    "    for w in words[:max_words]:\n",
    "        if w in word_vectors_ft:\n",
    "            wv = word_vectors_ft[w]\n",
    "        else:\n",
    "            wv = ft.get_word_vector(w.lower())\n",
    "            word_vectors_ft[w] = wv\n",
    "        features_ft[idx] = wv\n",
    "        \n",
    "        idx = idx + 1\n",
    "    return features_ft"
   ]
  },
  {
   "cell_type": "code",
   "execution_count": null,
   "metadata": {},
   "outputs": [],
   "source": [
    "def sequential_generator(filename, \n",
    "                         batch_size, \n",
    "                         labels2Idx:'dict to make output labels',\n",
    "                         check:'to check if all lines in file are of same length.To check enter the len of line after splitting it by tabs' = None,\n",
    "                         tokenize:'specify if using twitter tokenzor to preprocess lines'=False, \n",
    "                         crosslingual:'specify if crosslingual training being done'= False, \n",
    "                         transmat= None\n",
    "                        ):    \n",
    "    \n",
    "    f = open(filename)\n",
    "    n_labels = len(labels2Idx)\n",
    "    while True:\n",
    "        batch_features_ft = np.zeros((batch_size, nb_sequence_length, nb_embedding_dims))\n",
    "        batch_labels = np.zeros((batch_size, len(labels2Idx)))\n",
    "        batch_intensity = np.zeros((batch_size, 1))\n",
    "        for i in range(batch_size):\n",
    "            line = f.readline()\n",
    "            if (\"\" == line):\n",
    "                f.seek(0)\n",
    "                line = f.readline()\n",
    "            data = line.strip().split('\\t')\n",
    "            if check:\n",
    "                if len(data)!=check:\n",
    "                    i-=1\n",
    "                    continue\n",
    "            if not crosslingual:\n",
    "                batch_features_ft[i] = process_features(data[0], nb_sequence_length, nb_embedding_dims, tokenize= tokenize)\n",
    "            else:\n",
    "                batch_features_ft[i] = process_features_crosslingual(data[0], nb_sequence_length, nb_embedding_dims, tokenize, transmat)\n",
    "            batch_labels[i] = to_categorical(labels2Idx[data[1]], n_labels)\n",
    "            batch_intensity[i] = float(data[2])\n",
    "        yield ([batch_features_ft], [batch_labels, batch_intensity])"
   ]
  },
  {
   "cell_type": "code",
   "execution_count": null,
   "metadata": {},
   "outputs": [],
   "source": [
    "def train_dev_sentences(filetrain, filedev, check:'to check if lines of file are all same lenght after separating by tab'):\n",
    "    labels2Idx = {}\n",
    "    train_lines = [line.strip().split(\"\\t\") for line in open(filetrain) if len(line.split('\\t'))==check]\n",
    "    dev_lines = [line.strip().split(\"\\t\") for line in open(filedev) if len(line.strip().split('\\t'))==check]\n",
    "    for dataset in [train_lines, dev_lines]:\n",
    "        for line in dataset:\n",
    "            label = line[1]\n",
    "            if label not in labels2Idx.keys():\n",
    "                labels2Idx[label]= len(labels2Idx)\n",
    "    train_sentences =[]\n",
    "    train_labels = []\n",
    "    dev_sentences = []\n",
    "    dev_labels = []\n",
    "    try:\n",
    "        for line_no, x in enumerate(train_lines):\n",
    "            train_sentences.append(x[0])\n",
    "            train_labels.append([labels2Idx[x[1]], float(x[2])])\n",
    "    except Exception as e:\n",
    "        print(x, line_no, end='\\n\\n')\n",
    "    try:\n",
    "        for line_no, x in enumerate(dev_lines):\n",
    "            dev_sentences.append(x[0])\n",
    "            dev_labels.append([labels2Idx[x[1]], float(x[2])])\n",
    "    except Exception as e:\n",
    "        print(x, line_no)\n",
    "    return (train_sentences, train_labels, dev_sentences, dev_labels, labels2Idx)"
   ]
  },
  {
   "cell_type": "code",
   "execution_count": null,
   "metadata": {},
   "outputs": [],
   "source": [
    "train_file = '/home1/zishan/raghav/Data/train_with_intensity.txt'\n",
    "dev_file = '/home1/zishan/raghav/Data/dev_with_intensity.txt'\n",
    "train_sentences, train_labels, dev_sentences, dev_labels, labels2Idx = train_dev_sentences(train_file, dev_file, 3)"
   ]
  },
  {
   "cell_type": "code",
   "execution_count": null,
   "metadata": {},
   "outputs": [],
   "source": [
    "n_words = 0\n",
    "for sentence in train_sentences:\n",
    "    n_words+=len(sentence)\n",
    "print(n_words)"
   ]
  },
  {
   "cell_type": "code",
   "execution_count": null,
   "metadata": {},
   "outputs": [],
   "source": [
    "from collections import Counter\n",
    "print(Counter([x[0] for x in train_labels]))\n",
    "print(labels2Idx)"
   ]
  },
  {
   "cell_type": "code",
   "execution_count": null,
   "metadata": {
    "scrolled": true
   },
   "outputs": [],
   "source": [
    "print(train_sentences[:2])\n",
    "print(train_labels[:10])\n",
    "print(labels2Idx)\n",
    "print(len(train_labels))"
   ]
  },
  {
   "cell_type": "code",
   "execution_count": 9,
   "metadata": {},
   "outputs": [
    {
     "ename": "NameError",
     "evalue": "name 'labels2Idx' is not defined",
     "output_type": "error",
     "traceback": [
      "\u001b[0;31m---------------------------------------------------------------------------\u001b[0m",
      "\u001b[0;31mNameError\u001b[0m                                 Traceback (most recent call last)",
      "\u001b[0;32m<ipython-input-9-5183132de573>\u001b[0m in \u001b[0;36m<module>\u001b[0;34m()\u001b[0m\n\u001b[0;32m----> 1\u001b[0;31m \u001b[0mn_labels\u001b[0m \u001b[0;34m=\u001b[0m \u001b[0mlen\u001b[0m\u001b[0;34m(\u001b[0m\u001b[0mlabels2Idx\u001b[0m\u001b[0;34m)\u001b[0m\u001b[0;34m\u001b[0m\u001b[0m\n\u001b[0m",
      "\u001b[0;31mNameError\u001b[0m: name 'labels2Idx' is not defined"
     ]
    }
   ],
   "source": [
    "n_labels = len(labels2Idx)"
   ]
  },
  {
   "cell_type": "code",
   "execution_count": 7,
   "metadata": {},
   "outputs": [],
   "source": [
    "def compile_model_bilstm_cnn(no_labels:'total labels for classification'):\n",
    "    model_input_embedding = Input(shape = (nb_sequence_length, nb_embedding_dims))\n",
    "    lstm_block = Bidirectional(LSTM(100, dropout = 0.5, return_sequences=True))(model_input_embedding)\n",
    "    lstm_block = LeakyReLU()(lstm_block)\n",
    "\n",
    "    filter_sizes = (3, 4, 5)\n",
    "    conv_blocks = []\n",
    "    for sz in filter_sizes:\n",
    "        conv = Conv1D(\n",
    "            filters = 200,\n",
    "            kernel_size = sz,\n",
    "            padding = 'valid',\n",
    "            strides = 1\n",
    "        )(lstm_block)\n",
    "        conv = LeakyReLU()(conv)\n",
    "        conv = GlobalMaxPooling1D()(conv)\n",
    "        conv = Dropout(0.5)(conv)\n",
    "        conv_blocks.append(conv)\n",
    "    model_concatenated = concatenate([conv_blocks[0], conv_blocks[1], conv_blocks[2]])\n",
    "    model_concatenated = Dense(100)(model_concatenated)\n",
    "    model_concatenated = LeakyReLU(name='final_relu')(model_concatenated)\n",
    "    model_output_classification = Dense(no_labels, activation = \"softmax\", name='for_classification')(model_concatenated)\n",
    "#     model_output_intensity = Dense(1, activation = \"sigmoid\", name='for_intensity')(model_concatenated)\n",
    "#     new_model = Model(model_input_embedding, [model_output_classification, model_output_intensity])\n",
    "    new_model = Model(model_input_embedding, model_output_classification)\n",
    "    \n",
    "    new_model.compile(loss=['categorical_crossentropy'], optimizer='nadam', metrics = ['accuracy'])\n",
    "    new_model.summary()\n",
    "    return new_model"
   ]
  },
  {
   "cell_type": "code",
   "execution_count": 8,
   "metadata": {},
   "outputs": [],
   "source": [
    "def compile_model_with_intensity(no_old_labels, old_weights_file):\n",
    "    model = compile_model_bilstm_cnn(no_labels=no_old_labels)\n",
    "    model.load_weights(old_weights_file)\n",
    "    temp = model.get_layer('final_relu').output\n",
    "    dense_intensity = Dense(1, activation='sigmoid', name='intensity')(temp)\n",
    "    print(dense_intensity)\n",
    "    new_model = Model(inputs=model.input, outputs=[model.output, dense_intensity])\n",
    "    for layer in new_model.layers:\n",
    "        print(layer.name)\n",
    "    new_model.compile(loss=['categorical_crossentropy','mean_absolute_error'], optimizer='nadam', metrics=['accuracy'], loss_weights=[0.0,1.0])\n",
    "#     new_model.summary()\n",
    "#     keras.utils.plot_model(new_model, to_file='/home1/zishan/raghav/image.png')\n",
    "    for layer in new_model.layers:\n",
    "        if layer.name is not 'intensity':\n",
    "            layer.trainable = False\n",
    "    for layer in new_model.layers:\n",
    "        print(layer.name, layer.trainable)\n",
    "    new_model.compile(loss=['categorical_crossentropy','mean_absolute_error'], optimizer='nadam', metrics=['accuracy'], loss_weights=[0.0,1.0])\n",
    "    new_model.summary()\n",
    "    return new_model\n",
    "    "
   ]
  },
  {
   "cell_type": "code",
   "execution_count": null,
   "metadata": {
    "scrolled": true
   },
   "outputs": [],
   "source": [
    "no_old_labels = len(labels2Idx)\n",
    "old_weights_file = '/home1/zishan/raghav/weights/tl_semeval_suf_bu.h5'\n",
    "new_model = compile_model_with_intensity(no_old_labels=no_old_labels, old_weights_file= old_weights_file)"
   ]
  },
  {
   "cell_type": "code",
   "execution_count": null,
   "metadata": {
    "scrolled": true
   },
   "outputs": [],
   "source": [
    "from IPython.display import Image\n",
    "Image(\"/home1/zishan/raghav/image.png\")"
   ]
  },
  {
   "cell_type": "code",
   "execution_count": null,
   "metadata": {},
   "outputs": [],
   "source": [
    "transmat = np.loadtxt('/home1/zishan/raghav/fastText_multilingual/alignment_matrices/hi.txt')\n",
    "generator = sequential_generator(filename=train_file, batch_size=len(train_sentences), labels2Idx=labels2Idx, crosslingual=False, transmat=transmat)\n",
    "x,y = generator.__next__()"
   ]
  },
  {
   "cell_type": "code",
   "execution_count": null,
   "metadata": {},
   "outputs": [],
   "source": [
    "print(x[0].shape)\n",
    "print(y[0].shape)\n",
    "print(y[1].shape)"
   ]
  },
  {
   "cell_type": "code",
   "execution_count": null,
   "metadata": {},
   "outputs": [],
   "source": [
    "def get_logs_and_weights(epochs, filename_to_log, weights_file, no_labels, model, transmat=None, crosslingual=False, tokenize=True):\n",
    "    for layer in model.layers:\n",
    "        print(layer.name, layer.trainable)\n",
    "    min_mse = math.inf\n",
    "    f = open(filename_to_log,'w')\n",
    "    f.close()\n",
    "    for epoch in range(200):\n",
    "        print(\"Epoch {}\".format(epoch))\n",
    "        model.fit(x, y, epochs=1)\n",
    "\n",
    "        testset_features = np.zeros((len(dev_sentences), nb_sequence_length, nb_embedding_dims))\n",
    "        for i in range(len(dev_sentences)):\n",
    "            if crosslingual:\n",
    "                testset_features[i] = process_features_crosslingual(dev_sentences[i], nb_sequence_length, nb_embedding_dims, tokenize, transmat)\n",
    "            else:\n",
    "                testset_features[i] = process_features(dev_sentences[i], nb_sequence_length, nb_embedding_dims, tokenize)\n",
    "        results = model.predict(testset_features)\n",
    "        class_pred = results[0].argmax(axis=1)\n",
    "        intensity_pred =[i.tolist()[0] for i in results[1]]\n",
    "        true_classes= [label[0] for label in dev_labels]\n",
    "        true_intensity = [label[1] for label in dev_labels]\n",
    "        mse = mean_squared_error(true_intensity, intensity_pred)\n",
    "        correlation_coeff = np.corrcoef(true_intensity, intensity_pred)[0,1]\n",
    "        f1 = f1_score(true_classes, class_pred, average='macro')\n",
    "        if min_mse> mse:\n",
    "            print(\"saved!\")\n",
    "            min_mse = mse\n",
    "            model.save_weights(weights_file)\n",
    "            with open(filename_to_log,'a+') as f:\n",
    "                text = \"epoch:{0} f1:{1} mse:{2} correlation_coeff:{3}\\n\".format(epoch, f1, mse, correlation_coeff)\n",
    "                f.write(text)\n",
    "\n",
    "        print(\"f1:{0} mse:{1} correlation_coeff:{2}\".format(f1, mse, correlation_coeff))\n"
   ]
  },
  {
   "cell_type": "code",
   "execution_count": null,
   "metadata": {
    "scrolled": true
   },
   "outputs": [],
   "source": [
    "epochs =200\n",
    "filename_to_log = '/home1/zishan/raghav/logs/tl_semeval_suf_bu_with_intensity.txt'\n",
    "weights_file = '/home1/zishan/raghav/weights/tl_semevl_suf_bu_with_intensity.h5'\n",
    "transmat = np.loadtxt('/home1/zishan/raghav/fastText_multilingual/alignment_matrices/hi.txt')\n",
    "crosslingual=True\n",
    "tokenize = True\n",
    "no_labels = len(labels2Idx)\n",
    "model = new_model\n",
    "get_logs_and_weights(epochs=epochs, filename_to_log=filename_to_log,\n",
    "                     weights_file=weights_file, no_labels=no_labels,\n",
    "                     model= model, transmat = transmat, crosslingual=crosslingual, tokenize = True)"
   ]
  },
  {
   "cell_type": "markdown",
   "metadata": {},
   "source": [
    "# check\n"
   ]
  },
  {
   "cell_type": "code",
   "execution_count": 10,
   "metadata": {},
   "outputs": [],
   "source": [
    "def train_dev_sentences_without_intensity(filetrain, filedev, check:'to check if lines of file are all same lenght after separating by tab'):\n",
    "    labels2Idx = {}\n",
    "    train_lines = [line.strip().split(\"\\t\") for line in open(filetrain) if len(line.split('\\t'))==check]\n",
    "    dev_lines = [line.strip().split(\"\\t\") for line in open(filedev) if len(line.strip().split('\\t'))==check]\n",
    "    train_sentences = [x[0] for x in train_lines]\n",
    "    for dataset in [train_lines, dev_lines]:\n",
    "        for line in dataset:\n",
    "            label = line[1]\n",
    "            if label not in labels2Idx.keys():\n",
    "                labels2Idx[label]= len(labels2Idx)\n",
    "                \n",
    "    train_labels = [labels2Idx[x[1]] for x in train_lines]\n",
    "    dev_sentences = [x[0] for x in dev_lines]\n",
    "    dev_labels = [labels2Idx[x[1]] for x in dev_lines]\n",
    "    return (train_sentences, train_labels, dev_sentences, dev_labels, labels2Idx)"
   ]
  },
  {
   "cell_type": "code",
   "execution_count": 11,
   "metadata": {},
   "outputs": [],
   "source": [
    "train_file = '/home1/zishan/raghav/Data/train.txt'\n",
    "dev_file = '/home1/zishan/raghav/Data/dev.txt'\n",
    "train_sentences, train_labels, dev_sentences, dev_labels, labels2Idx = train_dev_sentences_without_intensity(train_file, dev_file, 2)"
   ]
  },
  {
   "cell_type": "code",
   "execution_count": 12,
   "metadata": {},
   "outputs": [
    {
     "name": "stdout",
     "output_type": "stream",
     "text": [
      "9\n"
     ]
    }
   ],
   "source": [
    "print(len(labels2Idx))"
   ]
  },
  {
   "cell_type": "code",
   "execution_count": 23,
   "metadata": {
    "scrolled": true
   },
   "outputs": [
    {
     "name": "stdout",
     "output_type": "stream",
     "text": [
      "__________________________________________________________________________________________________\n",
      "Layer (type)                    Output Shape         Param #     Connected to                     \n",
      "==================================================================================================\n",
      "input_11 (InputLayer)           (None, 75, 300)      0                                            \n",
      "__________________________________________________________________________________________________\n",
      "bidirectional_11 (Bidirectional (None, 75, 200)      320800      input_11[0][0]                   \n",
      "__________________________________________________________________________________________________\n",
      "leaky_re_lu_41 (LeakyReLU)      (None, 75, 200)      0           bidirectional_11[0][0]           \n",
      "__________________________________________________________________________________________________\n",
      "conv1d_31 (Conv1D)              (None, 73, 200)      120200      leaky_re_lu_41[0][0]             \n",
      "__________________________________________________________________________________________________\n",
      "conv1d_32 (Conv1D)              (None, 72, 200)      160200      leaky_re_lu_41[0][0]             \n",
      "__________________________________________________________________________________________________\n",
      "conv1d_33 (Conv1D)              (None, 71, 200)      200200      leaky_re_lu_41[0][0]             \n",
      "__________________________________________________________________________________________________\n",
      "leaky_re_lu_42 (LeakyReLU)      (None, 73, 200)      0           conv1d_31[0][0]                  \n",
      "__________________________________________________________________________________________________\n",
      "leaky_re_lu_43 (LeakyReLU)      (None, 72, 200)      0           conv1d_32[0][0]                  \n",
      "__________________________________________________________________________________________________\n",
      "leaky_re_lu_44 (LeakyReLU)      (None, 71, 200)      0           conv1d_33[0][0]                  \n",
      "__________________________________________________________________________________________________\n",
      "global_max_pooling1d_31 (Global (None, 200)          0           leaky_re_lu_42[0][0]             \n",
      "__________________________________________________________________________________________________\n",
      "global_max_pooling1d_32 (Global (None, 200)          0           leaky_re_lu_43[0][0]             \n",
      "__________________________________________________________________________________________________\n",
      "global_max_pooling1d_33 (Global (None, 200)          0           leaky_re_lu_44[0][0]             \n",
      "__________________________________________________________________________________________________\n",
      "dropout_31 (Dropout)            (None, 200)          0           global_max_pooling1d_31[0][0]    \n",
      "__________________________________________________________________________________________________\n",
      "dropout_32 (Dropout)            (None, 200)          0           global_max_pooling1d_32[0][0]    \n",
      "__________________________________________________________________________________________________\n",
      "dropout_33 (Dropout)            (None, 200)          0           global_max_pooling1d_33[0][0]    \n",
      "__________________________________________________________________________________________________\n",
      "concatenate_11 (Concatenate)    (None, 600)          0           dropout_31[0][0]                 \n",
      "                                                                 dropout_32[0][0]                 \n",
      "                                                                 dropout_33[0][0]                 \n",
      "__________________________________________________________________________________________________\n",
      "dense_11 (Dense)                (None, 100)          60100       concatenate_11[0][0]             \n",
      "__________________________________________________________________________________________________\n",
      "final_relu (LeakyReLU)          (None, 100)          0           dense_11[0][0]                   \n",
      "__________________________________________________________________________________________________\n",
      "for_classification (Dense)      (None, 9)            909         final_relu[0][0]                 \n",
      "==================================================================================================\n",
      "Total params: 862,409\n",
      "Trainable params: 862,409\n",
      "Non-trainable params: 0\n",
      "__________________________________________________________________________________________________\n",
      "300\n",
      "0.19705951826449056\n"
     ]
    },
    {
     "name": "stderr",
     "output_type": "stream",
     "text": [
      "/home1/zishan/anaconda3/envs/raghav_btp/lib/python3.6/site-packages/sklearn/metrics/classification.py:1135: UndefinedMetricWarning: F-score is ill-defined and being set to 0.0 in labels with no predicted samples.\n",
      "  'precision', 'predicted', average, warn_for)\n"
     ]
    }
   ],
   "source": [
    "model = compile_model_bilstm_cnn(len(labels2Idx))\n",
    "model.load_weights('/home1/zishan/raghav/weights/temp_gradual_unfreeze.h5')\n",
    "transmat = np.loadtxt('/home1/zishan/raghav/fastText_multilingual/alignment_matrices/hi.txt')\n",
    "testset_features = np.zeros((len(dev_sentences), nb_sequence_length, nb_embedding_dims))\n",
    "for i in range(len(dev_sentences)):\n",
    "    testset_features[i] = process_features_crosslingual(dev_sentences[i], nb_sequence_length, nb_embedding_dims,True, transmat)\n",
    "#     testset_features[i] = process_features(dev_sentences[i], nb_sequence_length, nb_embedding_dims)\n",
    "\n",
    "results = model.predict(testset_features)\n",
    "\n",
    "predLabels = results.argmax(axis=-1)\n",
    "print(len(dev_labels))\n",
    "devLabels = dev_labels\n",
    "f1 = f1_score(devLabels, predLabels, average='macro') # offen\n",
    "print(f1)"
   ]
  },
  {
   "cell_type": "code",
   "execution_count": null,
   "metadata": {},
   "outputs": [],
   "source": []
  }
 ],
 "metadata": {
  "kernelspec": {
   "display_name": "Python [conda env:raghav_btp]",
   "language": "python",
   "name": "conda-env-raghav_btp-py"
  },
  "language_info": {
   "codemirror_mode": {
    "name": "ipython",
    "version": 3
   },
   "file_extension": ".py",
   "mimetype": "text/x-python",
   "name": "python",
   "nbconvert_exporter": "python",
   "pygments_lexer": "ipython3",
   "version": "3.6.6"
  }
 },
 "nbformat": 4,
 "nbformat_minor": 2
}
